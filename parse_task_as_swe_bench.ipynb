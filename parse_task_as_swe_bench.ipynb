{
 "cells": [
  {
   "cell_type": "code",
   "execution_count": 1,
   "id": "9e90bb91",
   "metadata": {},
   "outputs": [],
   "source": [
    "import pandas as pd\n",
    "import json"
   ]
  },
  {
   "cell_type": "code",
   "execution_count": 2,
   "id": "276c9f71",
   "metadata": {},
   "outputs": [
    {
     "name": "stdout",
     "output_type": "stream",
     "text": [
      "(533, 15)\n",
      "Index(['repo_name', 'base_commit_ids', 'base_commit_dates',\n",
      "       'resolving_commit_id', 'resolving_commit_date', 'pr_num',\n",
      "       'pr_close_date', 'pr_open_date', 'num_changed_files',\n",
      "       'changed_files_list', 'linked_issue_nums', '_linked_issue_desc',\n",
      "       '_pr_description', 'linked_issue_date_open',\n",
      "       'linked_issue_date_closed'],\n",
      "      dtype='object')\n",
      "issue linked 0.260788 [139/533]\n"
     ]
    },
    {
     "name": "stderr",
     "output_type": "stream",
     "text": [
      "/tmp/ipykernel_1827281/932331968.py:21: FutureWarning: In a future version of pandas, parsing datetimes with mixed time zones will raise an error unless `utc=True`. Please specify `utc=True` to opt in to the new behaviour and silence this warning. To create a `Series` with mixed offsets and `object` dtype, please use `apply` and `datetime.datetime.strptime`\n",
      "  df[column] = pd.to_datetime(df[column])\n"
     ]
    }
   ],
   "source": [
    "def load_data():\n",
    "    df = pd.read_parquet(\"sympy_2024_test_v01.parquet\")\n",
    "\n",
    "    def load_json(s):\n",
    "        \"\"\"load str(dict|list), please do json.dumps in future\"\"\"\n",
    "\n",
    "        if s == '[None]':\n",
    "            return []\n",
    "        return json.loads(s.replace(\"'\", '\"'))\n",
    "\n",
    "    for i in ['base_commit_ids', 'base_commit_dates', 'num_changed_files', \n",
    "              'changed_files_list', 'linked_issue_nums', 'linked_issue_date_open', \n",
    "              'linked_issue_date_closed']:\n",
    "        #print(i)\n",
    "        df[i] = df[i].apply(load_json)\n",
    "    df['base_commit_dates'] = df['base_commit_dates'].apply(lambda x: [pd.to_datetime(i) for i in x])\n",
    "    df['linked_issue_date_open']  = df['linked_issue_date_open'].apply(lambda x: [pd.to_datetime(i) for i in x])\n",
    "    df['linked_issue_date_closed']  = df['linked_issue_date_closed'].apply(lambda x: [pd.to_datetime(i) for i in x])\n",
    "    for column in ['pr_close_date', 'pr_open_date', 'resolving_commit_date']:\n",
    "        #print(column)\n",
    "        df[column] = pd.to_datetime(df[column])\n",
    "\n",
    "    print(df.shape)\n",
    "    print(df.keys())\n",
    "    return df\n",
    "\n",
    "#Load data\n",
    "df = load_data()\n",
    "\n",
    "n_with_issue = df['_linked_issue_desc'].notna().sum()\n",
    "n = len(df)\n",
    "print(\"issue linked %f [%d/%d]\"%(n_with_issue/n, n_with_issue, n))\n",
    "# print(\"\")\n",
    "# df = df[df['_linked_issue_desc'].notna()]"
   ]
  },
  {
   "cell_type": "code",
   "execution_count": 3,
   "id": "a8210534",
   "metadata": {},
   "outputs": [
    {
     "data": {
      "text/plain": [
       "(   base_commit_ids  base_commit_dates  num_changed_files  changed_files_list\n",
       " 0                2                  2                  2                   2,\n",
       "     linked_issue_nums  linked_issue_date_open  linked_issue_date_closed\n",
       " 0                   0                       0                         0\n",
       " 2                   1                       1                         1\n",
       " 16                  1                       1                         0\n",
       " 84                  2                       2                         2\n",
       " 90                  3                       3                         3)"
      ]
     },
     "execution_count": 3,
     "metadata": {},
     "output_type": "execute_result"
    }
   ],
   "source": [
    "group1 = ['base_commit_ids', 'base_commit_dates', 'num_changed_files', 'changed_files_list']\n",
    "group2 = ['linked_issue_nums', 'linked_issue_date_open', 'linked_issue_date_closed']\n",
    "\n",
    "df[group1].apply(lambda x: x.apply(len)).drop_duplicates(),\\\n",
    "df[group2].apply(lambda x: x.apply(len)).drop_duplicates()"
   ]
  },
  {
   "cell_type": "code",
   "execution_count": 4,
   "id": "30b56844",
   "metadata": {},
   "outputs": [],
   "source": [
    "from copy import deepcopy\n",
    "\n",
    "def explode_dataframe(df):\n",
    "    \"\"\"\n",
    "        Explode dataframe by 2 groups\n",
    "         if second groups len()==0 => it will have None\n",
    "    \"\"\"\n",
    "    group1 = ['base_commit_ids', 'base_commit_dates', 'num_changed_files', 'changed_files_list']\n",
    "    group2 = ['linked_issue_nums', 'linked_issue_date_open', 'linked_issue_date_closed']\n",
    "\n",
    "    data_explode = []\n",
    "\n",
    "    for orig_id, row in df.iterrows():\n",
    "        dct_base = {k: v for k, v in  row.to_dict().items() if k not in group1+group2}\n",
    "        n_group1 = len(row[group1[0]])\n",
    "        \n",
    "        #Case if second group is None)\n",
    "        n_group2 = max(1, len(row[group2[0]]))\n",
    "        for ind1 in range(n_group1):\n",
    "            dct_base_commits = {k:row[k][ind1] for k in group1}\n",
    "            for ind2 in range(n_group2):\n",
    "                dct_linked_issue = {k: row[k][ind2] if len(row[k]) != 0 else None for k in group2}\n",
    "                data_explode.append({**{\"orig_id\": orig_id}, **dct_base, **dct_base_commits, **dct_linked_issue})\n",
    "\n",
    "    data_explode = pd.DataFrame(data_explode)\n",
    "    return data_explode\n",
    "\n",
    "data = explode_dataframe(df)\n",
    "# Empty space\n",
    "# del df\n",
    "\n",
    "# Rename some columns according to SWE-bench dataset\n",
    "# Add columns to have understandable names\n",
    "# 'repo': Value(dtype='string', id=None)\n",
    "# 'instance_id': Value(dtype='string', id=None)\n",
    "# 'base_commit': Value(dtype='string', id=None)  # наш base_commit_before\n",
    "# 'patch':      - правильный ответ \n",
    "# 'test_patch': Value(dtype='string', id=None), # какие тесты нужно подставить чтобы были саме новые тесты\n",
    "# 'problem_statement': Value(dtype='string', id=None), # нужно посмотреть они еще добавляют данные с форума\n",
    "# 'hints_text': Value(dtype='string', id=None),        # ? с форума ?\n",
    "# 'created_at': Value(dtype='string', id=None),        # дата создания ?? чего\n",
    "# 'version': Value(dtype='string', id=None),           # ? версия либы\n",
    "# 'FAIL_TO_PASS': Value(dtype='string', id=None),      # тесты которые могут упасть (skipped, error)\n",
    "# 'PASS_TO_PASS': Value(dtype='string', id=None),      # тесты которые должны быть passed\n",
    "# 'environment_setup_commit': Value(dtype='string', id=None) # hash Dockerfile\n",
    "\n",
    "data['base_commit_before'] = data['base_commit_ids']\n",
    "data['base_commit_after'] = data['resolving_commit_id']\n",
    "data['problem_statement'] = data['_linked_issue_desc']\n",
    "data['created_at'] = data['linked_issue_date_open']"
   ]
  },
  {
   "cell_type": "code",
   "execution_count": 5,
   "id": "c207c4a4",
   "metadata": {},
   "outputs": [],
   "source": [
    "data['build_command'] = \"pip install .\\npip install -r requirements-dev.txt\\npip install pytest-json-report\"\n",
    "data['test_command'] = \"pytest --json-report --json-report-file=report_pytest.json\""
   ]
  },
  {
   "cell_type": "code",
   "execution_count": 6,
   "id": "36ee7c8b",
   "metadata": {},
   "outputs": [
    {
     "data": {
      "text/plain": [
       "(1094, 22)"
      ]
     },
     "execution_count": 6,
     "metadata": {},
     "output_type": "execute_result"
    }
   ],
   "source": [
    "# data['linked_issue_date_open']\n",
    "data.shape"
   ]
  },
  {
   "cell_type": "code",
   "execution_count": 7,
   "id": "7461371b",
   "metadata": {},
   "outputs": [],
   "source": [
    "data = data[['orig_id', \n",
    "'repo_name', \"base_commit_before\", \"base_commit_after\",\n",
    "\"problem_statement\", \"created_at\", \n",
    "\"build_command\",\n",
    "\"test_command\",\n",
    "'resolving_commit_id', \n",
    "'resolving_commit_date',\n",
    "'pr_num', \n",
    "'pr_close_date', \n",
    "'pr_open_date', \n",
    "'_linked_issue_desc',\n",
    "'_pr_description', 'base_commit_ids', 'base_commit_dates',\n",
    "'num_changed_files', 'changed_files_list', 'linked_issue_nums',\n",
    "'linked_issue_date_open', 'linked_issue_date_closed']]"
   ]
  },
  {
   "cell_type": "code",
   "execution_count": 8,
   "id": "c4a3d5fd",
   "metadata": {},
   "outputs": [
    {
     "name": "stdout",
     "output_type": "stream",
     "text": [
      "data.shape (1094, 22)\n",
      "data['problem_statement'].notna().sum() 306\n",
      "data['problem_statement'].dropna().nunique() 137\n"
     ]
    }
   ],
   "source": [
    "print(\"data.shape\", data.shape)\n",
    "print(\"data['problem_statement'].notna().sum()\", data['problem_statement'].notna().sum())\n",
    "print(\"data['problem_statement'].dropna().nunique()\", data['problem_statement'].dropna().nunique())"
   ]
  },
  {
   "cell_type": "code",
   "execution_count": 9,
   "id": "c4305257",
   "metadata": {},
   "outputs": [],
   "source": [
    "from draft_git_scraper_v02 import fetch_git_diff, get_test_patch, get_patch"
   ]
  },
  {
   "cell_type": "code",
   "execution_count": 10,
   "id": "799558be",
   "metadata": {},
   "outputs": [
    {
     "name": "stderr",
     "output_type": "stream",
     "text": [
      "1094it [00:11, 98.04it/s] \n"
     ]
    }
   ],
   "source": [
    "from tqdm import tqdm\n",
    "folder_with_sympy = \"dynamic_bench/repos/sympy/\"\n",
    "data['full_patch'] = None\n",
    "data['test_patch'] = None\n",
    "data['patch'] = None\n",
    "\n",
    "for ind, row in tqdm(data.iterrows()):\n",
    "    data.loc[0, 'base_commit_before']\n",
    "    data.loc[0, 'base_commit_after']\n",
    "\n",
    "    git_diff = fetch_git_diff(folder=folder_with_sympy, \n",
    "                   base_commit_before=row['base_commit_before'], \n",
    "                   base_commit_after=row['base_commit_after']\n",
    "                  )\n",
    "\n",
    "    test_patch = get_test_patch(git_diff)\n",
    "    patch = get_patch(git_diff)\n",
    "    \n",
    "    data.loc[ind, 'test_patch'] = test_patch\n",
    "    data.loc[ind, 'patch'] = patch\n",
    "    data.loc[ind, 'full_patch'] = git_diff"
   ]
  },
  {
   "cell_type": "code",
   "execution_count": 11,
   "id": "565116b3",
   "metadata": {},
   "outputs": [],
   "source": [
    "data.to_parquet(\"sympy_2024_test_v02_exploded_with_patch.parquet\")"
   ]
  },
  {
   "cell_type": "code",
   "execution_count": 12,
   "id": "157cd178",
   "metadata": {},
   "outputs": [],
   "source": [
    "image_name = \"rti-sympy--sympy--490c6d0f7df7b02a70e04c0ed4ead899cd430e70\""
   ]
  },
  {
   "cell_type": "code",
   "execution_count": 13,
   "id": "7d5bd869",
   "metadata": {},
   "outputs": [
    {
     "name": "stdout",
     "output_type": "stream",
     "text": [
      "DEFAULT_CACHE_FOLDER=/data/adam/.cache/repotest\n",
      "0.3.29\n"
     ]
    }
   ],
   "source": [
    "import sys\n",
    "sys.path.insert(0, '/data/adam/git/repotest/')\n",
    "\n",
    "from tqdm import tqdm\n",
    "\n",
    "import repotest\n",
    "from repotest import __version__\n",
    "print(__version__)\n",
    "\n",
    "from repotest.core.docker.python import PythonDockerRepo\n",
    "from repotest.core.exceptions import GitException"
   ]
  },
  {
   "cell_type": "code",
   "execution_count": 14,
   "id": "60f2ea22",
   "metadata": {},
   "outputs": [],
   "source": [
    "task = data.loc[4].to_dict()"
   ]
  },
  {
   "cell_type": "code",
   "execution_count": 15,
   "id": "18e106f4",
   "metadata": {},
   "outputs": [
    {
     "name": "stdout",
     "output_type": "stream",
     "text": [
      "__init__.py\t       galoistools.py\t\t   polyquinticconst.py\r\n",
      "agca\t\t       groebnertools.py\t\t   polyroots.py\r\n",
      "appellseqs.py\t       heuristicgcd.py\t\t   polytools.py\r\n",
      "benchmarks\t       matrices\t\t\t   polyutils.py\r\n",
      "compatibility.py       modulargcd.py\t\t   puiseux.py\r\n",
      "constructor.py\t       monomials.py\t\t   rationaltools.py\r\n",
      "densearith.py\t       multivariate_resultants.py  ring_series.py\r\n",
      "densebasic.py\t       numberfields\t\t   rings.py\r\n",
      "densetools.py\t       orderings.py\t\t   rootisolation.py\r\n",
      "dispersion.py\t       orthopolys.py\t\t   rootoftools.py\r\n",
      "distributedmodules.py  partfrac.py\t\t   solvers.py\r\n",
      "domainmatrix.py        polyclasses.py\t\t   specialpolys.py\r\n",
      "domains\t\t       polyconfig.py\t\t   sqfreetools.py\r\n",
      "euclidtools.py\t       polyerrors.py\t\t   subresultants_qq_zz.py\r\n",
      "factortools.py\t       polyfuncs.py\t\t   tests\r\n",
      "fglmtools.py\t       polymatrix.py\r\n",
      "fields.py\t       polyoptions.py\r\n"
     ]
    }
   ],
   "source": [
    "!ls dynamic_bench/repos/sympy/sympy/polys/"
   ]
  },
  {
   "cell_type": "code",
   "execution_count": 16,
   "id": "b7ade25a",
   "metadata": {},
   "outputs": [],
   "source": [
    "# print(task['test_patch'])"
   ]
  },
  {
   "cell_type": "code",
   "execution_count": 17,
   "id": "0c1d0354",
   "metadata": {},
   "outputs": [],
   "source": [
    "repo = PythonDockerRepo(repo = task['repo_name'],\n",
    "                        base_commit = task['base_commit_before'],\n",
    "                        image_name = image_name\n",
    "                       )\n",
    "\n",
    "repo.clean()"
   ]
  },
  {
   "cell_type": "code",
   "execution_count": 18,
   "id": "778064e8",
   "metadata": {},
   "outputs": [],
   "source": [
    "# - clean\n",
    "# - apply(test_patch)\n",
    "# - apply(patch)\n",
    "# - apply(test, test_patch)"
   ]
  },
  {
   "cell_type": "code",
   "execution_count": 19,
   "id": "e2a6716e",
   "metadata": {},
   "outputs": [],
   "source": [
    "data['test_files'] = data['changed_files_list'].apply(lambda x: [i for i in x if i.split('/')[-1].startswith(\"test_\")])"
   ]
  },
  {
   "cell_type": "code",
   "execution_count": 20,
   "id": "fe354787",
   "metadata": {},
   "outputs": [],
   "source": [
    "data['small_test_command'] = data['test_files'].apply(lambda x: 'pytest ' + ' '.join(x) + \" --json-report --json-report-file=report_pytest.json\" if x else None)"
   ]
  },
  {
   "cell_type": "code",
   "execution_count": 21,
   "id": "e752ea0d",
   "metadata": {},
   "outputs": [],
   "source": [
    "data[\"_res_before\"] = None\n",
    "data[\"_res_test_patch\"] = None\n",
    "data[\"_res_patch\"] = None\n",
    "data[\"_res_full_patch\"] = None"
   ]
  },
  {
   "cell_type": "code",
   "execution_count": 30,
   "id": "f18507d5",
   "metadata": {},
   "outputs": [
    {
     "name": "stdout",
     "output_type": "stream",
     "text": [
      "233M\t/data/adam/.cache/repotest/6a36956e9fcf910159f93be330af79a228bc5421\r\n"
     ]
    }
   ],
   "source": [
    "!du -sh {repo.cache_folder}"
   ]
  },
  {
   "cell_type": "code",
   "execution_count": null,
   "id": "b2f3be37",
   "metadata": {},
   "outputs": [],
   "source": []
  },
  {
   "cell_type": "code",
   "execution_count": 45,
   "id": "3ce8f471",
   "metadata": {},
   "outputs": [],
   "source": [
    "import time\n",
    "# time.sleep(1)"
   ]
  },
  {
   "cell_type": "code",
   "execution_count": 195,
   "id": "838f12e3",
   "metadata": {},
   "outputs": [],
   "source": [
    "data['status'] = None"
   ]
  },
  {
   "cell_type": "code",
   "execution_count": null,
   "id": "17aba6e5",
   "metadata": {},
   "outputs": [
    {
     "name": "stderr",
     "output_type": "stream",
     "text": [
      "\r",
      "  0%|                                                  | 0/1094 [00:00<?, ?it/s]"
     ]
    },
    {
     "name": "stdout",
     "output_type": "stream",
     "text": [
      "200\n"
     ]
    },
    {
     "name": "stderr",
     "output_type": "stream",
     "text": [
      "\r",
      " 18%|███████▎                                | 201/1094 [00:27<02:00,  7.43it/s]"
     ]
    },
    {
     "name": "stdout",
     "output_type": "stream",
     "text": [
      "215\n"
     ]
    },
    {
     "name": "stderr",
     "output_type": "stream",
     "text": [
      "\r",
      " 20%|███████▉                                | 216/1094 [00:49<03:53,  3.76it/s]"
     ]
    },
    {
     "name": "stdout",
     "output_type": "stream",
     "text": [
      "277\n"
     ]
    },
    {
     "name": "stderr",
     "output_type": "stream",
     "text": [
      "\r",
      " 25%|██████████▏                             | 278/1094 [09:48<45:08,  3.32s/it]"
     ]
    },
    {
     "name": "stdout",
     "output_type": "stream",
     "text": [
      "311\n"
     ]
    },
    {
     "name": "stderr",
     "output_type": "stream",
     "text": [
      "2025-04-10 17:05:09,118 - repotest - CRITICAL - Timeout exception PythonDockerRepo(repo=\"sympy/sympy\", cache_folder=\"/data/adam/.cache/repotest/dee6b13dbb72fd3b79bf9c0d592a304d8613e97c\", base_commit=\"dee6b13dbb72fd3b79bf9c0d592a304d8613e97c\")\n"
     ]
    },
    {
     "name": "stdout",
     "output_type": "stream",
     "text": [
      "Critical fail\n"
     ]
    },
    {
     "name": "stderr",
     "output_type": "stream",
     "text": [
      "\r",
      " 29%|██████████▊                           | 312/1094 [15:49<1:04:21,  4.94s/it]"
     ]
    },
    {
     "name": "stdout",
     "output_type": "stream",
     "text": [
      "333\n",
      "Critical fail\n"
     ]
    },
    {
     "name": "stderr",
     "output_type": "stream",
     "text": [
      "\r",
      " 31%|███████████▌                          | 334/1094 [20:13<1:17:41,  6.13s/it]"
     ]
    },
    {
     "name": "stdout",
     "output_type": "stream",
     "text": [
      "335\n",
      "Critical fail\n"
     ]
    },
    {
     "name": "stderr",
     "output_type": "stream",
     "text": [
      "\r",
      " 31%|███████████▋                          | 336/1094 [24:22<1:49:43,  8.69s/it]"
     ]
    },
    {
     "name": "stdout",
     "output_type": "stream",
     "text": [
      "403\n"
     ]
    },
    {
     "name": "stderr",
     "output_type": "stream",
     "text": [
      "2025-04-10 17:20:32,106 - repotest - CRITICAL - Clone failed PythonDockerRepo(repo=\"sympy/sympy\", cache_folder=\"/data/adam/.cache/repotest/8d6961b699745c03c82fed464519e2f01975114b\", base_commit=\"8d6961b699745c03c82fed464519e2f01975114b\")\n"
     ]
    },
    {
     "name": "stdout",
     "output_type": "stream",
     "text": [
      "Critical fail, git limit exceded\n"
     ]
    },
    {
     "name": "stderr",
     "output_type": "stream",
     "text": [
      "2025-04-10 17:24:04,518 - repotest - CRITICAL - Timeout exception PythonDockerRepo(repo=\"sympy/sympy\", cache_folder=\"/data/adam/.cache/repotest/8d6961b699745c03c82fed464519e2f01975114b\", base_commit=\"8d6961b699745c03c82fed464519e2f01975114b\")\n",
      "2025-04-10 17:26:14,958 - repotest - CRITICAL - Don't forget to add this error to try except\n",
      "2025-04-10 17:27:39,827 - repotest - CRITICAL - Timeout exception PythonDockerRepo(repo=\"sympy/sympy\", cache_folder=\"/data/adam/.cache/repotest/8d6961b699745c03c82fed464519e2f01975114b\", base_commit=\"8d6961b699745c03c82fed464519e2f01975114b\")\n",
      " 37%|██████████████                        | 404/1094 [36:04<1:49:33,  9.53s/it]"
     ]
    },
    {
     "name": "stdout",
     "output_type": "stream",
     "text": [
      "514\n"
     ]
    },
    {
     "name": "stderr",
     "output_type": "stream",
     "text": [
      "2025-04-10 17:31:25,930 - repotest - CRITICAL - Timeout exception PythonDockerRepo(repo=\"sympy/sympy\", cache_folder=\"/data/adam/.cache/repotest/583993a9b99faa3f244b1863feddf4c2480ac640\", base_commit=\"583993a9b99faa3f244b1863feddf4c2480ac640\")\n",
      "2025-04-10 17:33:23,970 - repotest - CRITICAL - Don't forget to add this error to try except\n",
      "2025-04-10 17:34:47,011 - repotest - CRITICAL - Timeout exception PythonDockerRepo(repo=\"sympy/sympy\", cache_folder=\"/data/adam/.cache/repotest/583993a9b99faa3f244b1863feddf4c2480ac640\", base_commit=\"583993a9b99faa3f244b1863feddf4c2480ac640\")\n",
      " 47%|█████████████████▉                    | 515/1094 [42:30<1:00:08,  6.23s/it]"
     ]
    },
    {
     "name": "stdout",
     "output_type": "stream",
     "text": [
      "527\n"
     ]
    },
    {
     "name": "stderr",
     "output_type": "stream",
     "text": [
      "\r",
      " 48%|███████████████████▎                    | 528/1094 [43:04<55:58,  5.93s/it]"
     ]
    },
    {
     "name": "stdout",
     "output_type": "stream",
     "text": [
      "528\n"
     ]
    },
    {
     "name": "stderr",
     "output_type": "stream",
     "text": [
      "2025-04-10 17:39:14,410 - repotest - CRITICAL - Clone failed PythonDockerRepo(repo=\"sympy/sympy\", cache_folder=\"/data/adam/.cache/repotest/dc479dd623e96754961a03337a2e92a52b7f1ebe\", base_commit=\"dc479dd623e96754961a03337a2e92a52b7f1ebe\")\n"
     ]
    },
    {
     "name": "stdout",
     "output_type": "stream",
     "text": [
      "Critical fail, git limit exceded\n"
     ]
    },
    {
     "name": "stderr",
     "output_type": "stream",
     "text": [
      "\r",
      " 48%|██████████████████▎                   | 529/1094 [48:00<1:20:43,  8.57s/it]"
     ]
    },
    {
     "name": "stdout",
     "output_type": "stream",
     "text": [
      "529\n"
     ]
    },
    {
     "name": "stderr",
     "output_type": "stream",
     "text": [
      "\r",
      " 48%|██████████████████▍                   | 530/1094 [48:21<1:22:00,  8.72s/it]"
     ]
    },
    {
     "name": "stdout",
     "output_type": "stream",
     "text": [
      "530\n"
     ]
    },
    {
     "name": "stderr",
     "output_type": "stream",
     "text": [
      "\r",
      " 49%|██████████████████▍                   | 531/1094 [52:04<1:58:05, 12.58s/it]"
     ]
    },
    {
     "name": "stdout",
     "output_type": "stream",
     "text": [
      "531\n"
     ]
    },
    {
     "name": "stderr",
     "output_type": "stream",
     "text": [
      "\r",
      " 49%|██████████████████▍                   | 532/1094 [56:28<2:56:50, 18.88s/it]"
     ]
    },
    {
     "name": "stdout",
     "output_type": "stream",
     "text": [
      "535\n"
     ]
    },
    {
     "name": "stderr",
     "output_type": "stream",
     "text": [
      "2025-04-10 17:50:48,179 - repotest - CRITICAL - Don't forget to add this error to try except\n",
      " 49%|██████████████████▌                   | 536/1094 [56:54<2:41:08, 17.33s/it]"
     ]
    },
    {
     "name": "stdout",
     "output_type": "stream",
     "text": [
      "536\n"
     ]
    },
    {
     "name": "stderr",
     "output_type": "stream",
     "text": [
      "\r",
      " 49%|██████████████████▋                   | 537/1094 [57:19<2:43:38, 17.63s/it]"
     ]
    },
    {
     "name": "stdout",
     "output_type": "stream",
     "text": [
      "537\n"
     ]
    },
    {
     "name": "stderr",
     "output_type": "stream",
     "text": [
      "\r",
      " 49%|██████████████████▋                   | 538/1094 [58:19<3:05:59, 20.07s/it]"
     ]
    },
    {
     "name": "stdout",
     "output_type": "stream",
     "text": [
      "539\n"
     ]
    },
    {
     "name": "stderr",
     "output_type": "stream",
     "text": [
      "\r",
      " 49%|██████████████████▊                   | 540/1094 [58:47<2:57:54, 19.27s/it]"
     ]
    },
    {
     "name": "stdout",
     "output_type": "stream",
     "text": [
      "540\n"
     ]
    },
    {
     "name": "stderr",
     "output_type": "stream",
     "text": [
      "\r",
      " 49%|█████████████████▊                  | 541/1094 [1:03:02<6:16:32, 40.85s/it]"
     ]
    },
    {
     "name": "stdout",
     "output_type": "stream",
     "text": [
      "541\n"
     ]
    },
    {
     "name": "stderr",
     "output_type": "stream",
     "text": [
      "2025-04-10 17:59:18,635 - repotest - CRITICAL - Clone failed PythonDockerRepo(repo=\"sympy/sympy\", cache_folder=\"/data/adam/.cache/repotest/36d43f1bfa85d3198781220f00bef28df963547d\", base_commit=\"36d43f1bfa85d3198781220f00bef28df963547d\")\n"
     ]
    },
    {
     "name": "stdout",
     "output_type": "stream",
     "text": [
      "Critical fail, git limit exceded\n"
     ]
    },
    {
     "name": "stderr",
     "output_type": "stream",
     "text": [
      "\r",
      " 50%|████████████████▊                 | 542/1094 [1:13:08<16:18:21, 106.34s/it]"
     ]
    },
    {
     "name": "stdout",
     "output_type": "stream",
     "text": [
      "550\n"
     ]
    },
    {
     "name": "stderr",
     "output_type": "stream",
     "text": [
      "\r",
      " 50%|██████████████████▏                 | 551/1094 [1:13:30<6:39:33, 44.15s/it]"
     ]
    },
    {
     "name": "stdout",
     "output_type": "stream",
     "text": [
      "551\n"
     ]
    },
    {
     "name": "stderr",
     "output_type": "stream",
     "text": [
      "\r",
      " 50%|██████████████████▏                 | 552/1094 [1:14:43<7:01:17, 46.64s/it]"
     ]
    },
    {
     "name": "stdout",
     "output_type": "stream",
     "text": [
      "553\n"
     ]
    },
    {
     "name": "stderr",
     "output_type": "stream",
     "text": [
      "\r",
      " 51%|██████████████████▏                 | 554/1094 [1:15:06<5:56:59, 39.67s/it]"
     ]
    },
    {
     "name": "stdout",
     "output_type": "stream",
     "text": [
      "554\n"
     ]
    },
    {
     "name": "stderr",
     "output_type": "stream",
     "text": [
      "\r",
      " 51%|██████████████████▎                 | 555/1094 [1:15:29<5:38:04, 37.63s/it]"
     ]
    },
    {
     "name": "stdout",
     "output_type": "stream",
     "text": [
      "559\n"
     ]
    },
    {
     "name": "stderr",
     "output_type": "stream",
     "text": [
      "\r",
      " 51%|██████████████████▍                 | 560/1094 [1:16:52<4:06:56, 27.75s/it]"
     ]
    },
    {
     "name": "stdout",
     "output_type": "stream",
     "text": [
      "561\n"
     ]
    },
    {
     "name": "stderr",
     "output_type": "stream",
     "text": [
      "\r",
      " 51%|██████████████████▍                 | 562/1094 [1:18:01<4:18:38, 29.17s/it]"
     ]
    },
    {
     "name": "stdout",
     "output_type": "stream",
     "text": [
      "562\n"
     ]
    },
    {
     "name": "stderr",
     "output_type": "stream",
     "text": [
      "\r",
      " 51%|██████████████████▌                 | 563/1094 [1:19:11<5:05:52, 34.56s/it]"
     ]
    },
    {
     "name": "stdout",
     "output_type": "stream",
     "text": [
      "566\n"
     ]
    },
    {
     "name": "stderr",
     "output_type": "stream",
     "text": [
      "\r",
      " 52%|██████████████████▋                 | 567/1094 [1:19:44<3:24:38, 23.30s/it]"
     ]
    },
    {
     "name": "stdout",
     "output_type": "stream",
     "text": [
      "567\n"
     ]
    },
    {
     "name": "stderr",
     "output_type": "stream",
     "text": [
      "\r",
      " 52%|██████████████████▋                 | 568/1094 [1:21:23<4:51:55, 33.30s/it]"
     ]
    },
    {
     "name": "stdout",
     "output_type": "stream",
     "text": [
      "569\n"
     ]
    },
    {
     "name": "stderr",
     "output_type": "stream",
     "text": [
      "2025-04-10 18:17:36,370 - repotest - CRITICAL - Clone failed PythonDockerRepo(repo=\"sympy/sympy\", cache_folder=\"/data/adam/.cache/repotest/2a82e58e754d97d8021fad78cdad1b3f646bd92f\", base_commit=\"2a82e58e754d97d8021fad78cdad1b3f646bd92f\")\n"
     ]
    },
    {
     "name": "stdout",
     "output_type": "stream",
     "text": [
      "Critical fail, git limit exceded\n"
     ]
    },
    {
     "name": "stderr",
     "output_type": "stream",
     "text": [
      "\r",
      " 52%|█████████████████▋                | 570/1094 [1:33:47<18:24:44, 126.50s/it]"
     ]
    },
    {
     "name": "stdout",
     "output_type": "stream",
     "text": [
      "570\n"
     ]
    },
    {
     "name": "stderr",
     "output_type": "stream",
     "text": [
      "\r",
      " 52%|█████████████████▋                | 571/1094 [1:35:05<17:13:23, 118.55s/it]"
     ]
    },
    {
     "name": "stdout",
     "output_type": "stream",
     "text": [
      "572\n"
     ]
    },
    {
     "name": "stderr",
     "output_type": "stream",
     "text": [
      "\r",
      " 52%|██████████████████▎                | 573/1094 [1:35:47<12:39:03, 87.41s/it]"
     ]
    },
    {
     "name": "stdout",
     "output_type": "stream",
     "text": [
      "573\n"
     ]
    },
    {
     "name": "stderr",
     "output_type": "stream",
     "text": [
      "\r",
      " 52%|██████████████████▎                | 574/1094 [1:36:22<11:12:29, 77.60s/it]"
     ]
    },
    {
     "name": "stdout",
     "output_type": "stream",
     "text": [
      "576\n"
     ]
    },
    {
     "name": "stderr",
     "output_type": "stream",
     "text": [
      "\r",
      " 53%|██████████████████▉                 | 577/1094 [1:36:57<6:56:23, 48.32s/it]"
     ]
    },
    {
     "name": "stdout",
     "output_type": "stream",
     "text": [
      "578\n"
     ]
    },
    {
     "name": "stderr",
     "output_type": "stream",
     "text": [
      "\r",
      " 53%|███████████████████                 | 579/1094 [1:37:35<5:39:55, 39.60s/it]"
     ]
    },
    {
     "name": "stdout",
     "output_type": "stream",
     "text": [
      "579\n"
     ]
    },
    {
     "name": "stderr",
     "output_type": "stream",
     "text": [
      "\r",
      " 53%|██████████████████▌                | 580/1094 [1:42:28<11:58:56, 83.92s/it]"
     ]
    },
    {
     "name": "stdout",
     "output_type": "stream",
     "text": [
      "580\n"
     ]
    },
    {
     "name": "stderr",
     "output_type": "stream",
     "text": [
      "\r",
      " 53%|██████████████████▌                | 581/1094 [1:43:54<12:02:21, 84.49s/it]"
     ]
    },
    {
     "name": "stdout",
     "output_type": "stream",
     "text": [
      "581\n"
     ]
    },
    {
     "name": "stderr",
     "output_type": "stream",
     "text": [
      "\r",
      " 53%|██████████████████▌                | 582/1094 [1:45:33<12:28:05, 87.67s/it]"
     ]
    },
    {
     "name": "stdout",
     "output_type": "stream",
     "text": [
      "582\n"
     ]
    },
    {
     "name": "stderr",
     "output_type": "stream",
     "text": [
      "\r",
      " 53%|██████████████████▋                | 583/1094 [1:46:14<10:51:25, 76.49s/it]"
     ]
    },
    {
     "name": "stdout",
     "output_type": "stream",
     "text": [
      "584\n"
     ]
    },
    {
     "name": "stderr",
     "output_type": "stream",
     "text": [
      "\r",
      " 53%|███████████████████▎                | 585/1094 [1:47:32<8:38:56, 61.17s/it]"
     ]
    },
    {
     "name": "stdout",
     "output_type": "stream",
     "text": [
      "585\n"
     ]
    },
    {
     "name": "stderr",
     "output_type": "stream",
     "text": [
      "\r",
      " 54%|██████████████████▋                | 586/1094 [1:50:56<13:10:40, 93.39s/it]"
     ]
    },
    {
     "name": "stdout",
     "output_type": "stream",
     "text": [
      "587\n"
     ]
    },
    {
     "name": "stderr",
     "output_type": "stream",
     "text": [
      "\r",
      " 54%|███████████████████▎                | 588/1094 [1:51:16<8:32:29, 60.77s/it]"
     ]
    },
    {
     "name": "stdout",
     "output_type": "stream",
     "text": [
      "588\n"
     ]
    },
    {
     "name": "stderr",
     "output_type": "stream",
     "text": [
      "\r",
      " 54%|███████████████████▍                | 589/1094 [1:51:37<7:16:50, 51.90s/it]"
     ]
    },
    {
     "name": "stdout",
     "output_type": "stream",
     "text": [
      "590\n"
     ]
    },
    {
     "name": "stderr",
     "output_type": "stream",
     "text": [
      "\r",
      " 54%|███████████████████▍                | 591/1094 [1:52:19<5:35:46, 40.05s/it]"
     ]
    },
    {
     "name": "stdout",
     "output_type": "stream",
     "text": [
      "591\n"
     ]
    },
    {
     "name": "stderr",
     "output_type": "stream",
     "text": [
      "\r",
      " 54%|███████████████████▍                | 592/1094 [1:53:36<6:41:24, 47.98s/it]"
     ]
    },
    {
     "name": "stdout",
     "output_type": "stream",
     "text": [
      "592\n"
     ]
    },
    {
     "name": "stderr",
     "output_type": "stream",
     "text": [
      "\r",
      " 54%|███████████████████▌                | 593/1094 [1:55:38<9:06:50, 65.49s/it]"
     ]
    },
    {
     "name": "stdout",
     "output_type": "stream",
     "text": [
      "593\n"
     ]
    },
    {
     "name": "stderr",
     "output_type": "stream",
     "text": [
      "\r",
      " 54%|███████████████████▌                | 594/1094 [1:56:56<9:31:45, 68.61s/it]"
     ]
    },
    {
     "name": "stdout",
     "output_type": "stream",
     "text": [
      "594\n"
     ]
    },
    {
     "name": "stderr",
     "output_type": "stream",
     "text": [
      "\r",
      " 54%|███████████████████▌                | 595/1094 [1:58:13<9:49:44, 70.91s/it]"
     ]
    },
    {
     "name": "stdout",
     "output_type": "stream",
     "text": [
      "596\n"
     ]
    },
    {
     "name": "stderr",
     "output_type": "stream",
     "text": [
      "\r",
      " 55%|███████████████████▋                | 597/1094 [1:58:41<6:23:10, 46.26s/it]"
     ]
    },
    {
     "name": "stdout",
     "output_type": "stream",
     "text": [
      "598\n"
     ]
    },
    {
     "name": "stderr",
     "output_type": "stream",
     "text": [
      "\r",
      " 55%|███████████████████▋                | 599/1094 [1:59:05<4:34:14, 33.24s/it]"
     ]
    },
    {
     "name": "stdout",
     "output_type": "stream",
     "text": [
      "599\n"
     ]
    },
    {
     "name": "stderr",
     "output_type": "stream",
     "text": [
      "\r",
      " 55%|███████████████████▋                | 600/1094 [1:59:44<4:44:44, 34.58s/it]"
     ]
    },
    {
     "name": "stdout",
     "output_type": "stream",
     "text": [
      "600\n"
     ]
    },
    {
     "name": "stderr",
     "output_type": "stream",
     "text": [
      "\r",
      " 55%|███████████████████▊                | 601/1094 [2:01:02<6:06:44, 44.63s/it]"
     ]
    },
    {
     "name": "stdout",
     "output_type": "stream",
     "text": [
      "602\n"
     ]
    },
    {
     "name": "stderr",
     "output_type": "stream",
     "text": [
      "\r",
      " 55%|███████████████████▊                | 603/1094 [2:02:23<5:52:18, 43.05s/it]"
     ]
    },
    {
     "name": "stdout",
     "output_type": "stream",
     "text": [
      "603\n"
     ]
    },
    {
     "name": "stderr",
     "output_type": "stream",
     "text": [
      "\r",
      " 55%|███████████████████▉                | 604/1094 [2:02:47<5:16:00, 38.69s/it]"
     ]
    },
    {
     "name": "stdout",
     "output_type": "stream",
     "text": [
      "604\n"
     ]
    },
    {
     "name": "stderr",
     "output_type": "stream",
     "text": [
      "\r",
      " 55%|███████████████████▉                | 605/1094 [2:03:07<4:38:56, 34.23s/it]"
     ]
    },
    {
     "name": "stdout",
     "output_type": "stream",
     "text": [
      "605\n"
     ]
    },
    {
     "name": "stderr",
     "output_type": "stream",
     "text": [
      "\r",
      " 55%|███████████████████▉                | 606/1094 [2:03:44<4:45:05, 35.05s/it]"
     ]
    },
    {
     "name": "stdout",
     "output_type": "stream",
     "text": [
      "606\n"
     ]
    },
    {
     "name": "stderr",
     "output_type": "stream",
     "text": [
      "\r",
      " 55%|███████████████████▉                | 607/1094 [2:04:18<4:41:26, 34.67s/it]"
     ]
    },
    {
     "name": "stdout",
     "output_type": "stream",
     "text": [
      "607\n"
     ]
    },
    {
     "name": "stderr",
     "output_type": "stream",
     "text": [
      "\r",
      " 56%|████████████████████                | 608/1094 [2:04:42<4:16:49, 31.71s/it]"
     ]
    },
    {
     "name": "stdout",
     "output_type": "stream",
     "text": [
      "610\n"
     ]
    },
    {
     "name": "stderr",
     "output_type": "stream",
     "text": [
      "\r",
      " 56%|████████████████████                | 611/1094 [2:05:03<2:28:06, 18.40s/it]"
     ]
    },
    {
     "name": "stdout",
     "output_type": "stream",
     "text": [
      "612\n"
     ]
    },
    {
     "name": "stderr",
     "output_type": "stream",
     "text": [
      "\r",
      " 56%|████████████████████▏               | 613/1094 [2:05:26<2:08:27, 16.02s/it]"
     ]
    },
    {
     "name": "stdout",
     "output_type": "stream",
     "text": [
      "620\n"
     ]
    },
    {
     "name": "stderr",
     "output_type": "stream",
     "text": [
      "\r",
      " 57%|████████████████████▍               | 621/1094 [2:06:09<1:10:25,  8.93s/it]"
     ]
    },
    {
     "name": "stdout",
     "output_type": "stream",
     "text": [
      "622\n"
     ]
    },
    {
     "name": "stderr",
     "output_type": "stream",
     "text": [
      "\r",
      " 57%|████████████████████▌               | 623/1094 [2:06:54<1:30:57, 11.59s/it]"
     ]
    },
    {
     "name": "stdout",
     "output_type": "stream",
     "text": [
      "624\n"
     ]
    },
    {
     "name": "stderr",
     "output_type": "stream",
     "text": [
      "\r",
      " 57%|████████████████████▌               | 625/1094 [2:08:05<2:10:32, 16.70s/it]"
     ]
    },
    {
     "name": "stdout",
     "output_type": "stream",
     "text": [
      "625\n"
     ]
    },
    {
     "name": "stderr",
     "output_type": "stream",
     "text": [
      "\r",
      " 57%|████████████████████▌               | 626/1094 [2:08:28<2:16:26, 17.49s/it]"
     ]
    },
    {
     "name": "stdout",
     "output_type": "stream",
     "text": [
      "628\n"
     ]
    },
    {
     "name": "stderr",
     "output_type": "stream",
     "text": [
      "\r",
      " 57%|████████████████████▋               | 629/1094 [2:09:15<2:11:05, 16.91s/it]"
     ]
    },
    {
     "name": "stdout",
     "output_type": "stream",
     "text": [
      "636\n"
     ]
    },
    {
     "name": "stderr",
     "output_type": "stream",
     "text": [
      "\r",
      " 58%|████████████████████▉               | 637/1094 [2:09:37<1:05:52,  8.65s/it]"
     ]
    },
    {
     "name": "stdout",
     "output_type": "stream",
     "text": [
      "638\n"
     ]
    },
    {
     "name": "stderr",
     "output_type": "stream",
     "text": [
      "\r",
      " 58%|█████████████████████               | 639/1094 [2:10:55<1:45:24, 13.90s/it]"
     ]
    },
    {
     "name": "stdout",
     "output_type": "stream",
     "text": [
      "639\n"
     ]
    },
    {
     "name": "stderr",
     "output_type": "stream",
     "text": [
      "\r",
      " 59%|█████████████████████               | 640/1094 [2:12:01<2:28:20, 19.61s/it]"
     ]
    },
    {
     "name": "stdout",
     "output_type": "stream",
     "text": [
      "640\n"
     ]
    },
    {
     "name": "stderr",
     "output_type": "stream",
     "text": [
      "\r",
      " 59%|█████████████████████               | 641/1094 [2:13:29<3:37:35, 28.82s/it]"
     ]
    },
    {
     "name": "stdout",
     "output_type": "stream",
     "text": [
      "642\n"
     ]
    },
    {
     "name": "stderr",
     "output_type": "stream",
     "text": [
      "\r",
      " 59%|█████████████████████▏              | 643/1094 [2:14:34<3:44:04, 29.81s/it]"
     ]
    },
    {
     "name": "stdout",
     "output_type": "stream",
     "text": [
      "643\n"
     ]
    },
    {
     "name": "stderr",
     "output_type": "stream",
     "text": [
      "\r",
      " 59%|█████████████████████▏              | 644/1094 [2:19:27<9:10:43, 73.43s/it]"
     ]
    },
    {
     "name": "stdout",
     "output_type": "stream",
     "text": [
      "644\n"
     ]
    },
    {
     "name": "stderr",
     "output_type": "stream",
     "text": [
      "\r",
      " 59%|████████████████████▋              | 645/1094 [2:22:03<11:07:45, 89.23s/it]"
     ]
    },
    {
     "name": "stdout",
     "output_type": "stream",
     "text": [
      "647\n"
     ]
    }
   ],
   "source": [
    "for n_iteration, (ind, task) in tqdm(enumerate(data.iterrows()), \n",
    "                                     total = len(data)\n",
    "                                    ):\n",
    "    try:\n",
    "        if task['small_test_command'] is None:\n",
    "            continue\n",
    "        elif task['test_patch'] == '':\n",
    "            continue\n",
    "        elif task['_res_full_patch'] is not None:\n",
    "            continue\n",
    "        elif len(task['changed_files_list']) > 100:\n",
    "            continue\n",
    "\n",
    "        print(ind)\n",
    "        try:\n",
    "            repo = PythonDockerRepo(repo = task['repo_name'],\n",
    "                                    base_commit = task['base_commit_before'],\n",
    "                                    image_name = image_name\n",
    "                                   )\n",
    "        except:\n",
    "            print(\"Critical fail, git limit exceded\")\n",
    "            time.sleep(120)\n",
    "            try:\n",
    "                repo = PythonDockerRepo(repo = task['repo_name'],\n",
    "                                        base_commit = task['base_commit_before'],\n",
    "                                        image_name = image_name\n",
    "                                       )\n",
    "            except:\n",
    "                time.sleep(600)\n",
    "                data.loc[ind, \"_res_before\"] = \"{}\"\n",
    "                continue\n",
    "\n",
    "        # base_commit_before\n",
    "        repo.clean()\n",
    "\n",
    "        dct_before = repo.run_test(task['small_test_command'])\n",
    "        data.loc[ind, \"_res_before\"] = json.dumps(dct_before)\n",
    "\n",
    "        # base_commit_before + тесты из будущего\n",
    "        repo.clean()\n",
    "        repo.apply_patch(task['test_patch'])\n",
    "        dct_test_patch = repo.run_test(task['small_test_command'], timeout=60*45)\n",
    "        data.loc[ind, \"_res_test_patch\"] = json.dumps(dct_test_patch)\n",
    "\n",
    "        # base_commit_before + фиксы файлов из будущего\n",
    "        if task['patch'] != \"\":\n",
    "            repo.clean()\n",
    "            repo.apply_patch(task['patch'])\n",
    "            dct_patch = repo.run_test(task['small_test_command'])\n",
    "            data.loc[ind, \"_res_patch\"] = json.dumps(dct_patch)\n",
    "        else:\n",
    "            data.loc[ind, \"_res_patch\"] = json.dumps(dct_before)\n",
    "        # base_commit_before + фиксы файлов из будущего + тесты из будущего (все равно что base_commit_after)\n",
    "        repo.clean()\n",
    "        if (task['patch'] != ''):\n",
    "            repo.apply_patch(task['patch'])\n",
    "        repo.apply_patch(task['test_patch'])\n",
    "        dct_full_patch = repo.run_test(task['small_test_command'], timeout=60*45)\n",
    "        data.loc[ind, \"_res_full_patch\"] = json.dumps(dct_full_patch)\n",
    "        if (n_iteration % 50 == 0):\n",
    "            data.to_parquet(\"data_250409.parquet\")\n",
    "        data.loc[ind, 'status'] = \"ok\"\n",
    "    except:\n",
    "        print(\"Critical fail\")\n",
    "        data.loc[ind, 'status'] = \"fail\"\n",
    "        time.sleep(120)"
   ]
  },
  {
   "cell_type": "code",
   "execution_count": null,
   "id": "99748b96",
   "metadata": {},
   "outputs": [],
   "source": [
    "!pwd"
   ]
  },
  {
   "cell_type": "code",
   "execution_count": null,
   "id": "d8df1ae7",
   "metadata": {},
   "outputs": [],
   "source": []
  },
  {
   "cell_type": "code",
   "execution_count": 205,
   "id": "5d8e84dd",
   "metadata": {},
   "outputs": [],
   "source": [
    "# len(task['ch'])\n",
    "# len(task['changed_files_list'])\n",
    "# data['status'].value_counts()"
   ]
  },
  {
   "cell_type": "code",
   "execution_count": 206,
   "id": "fc755625",
   "metadata": {},
   "outputs": [],
   "source": [
    "# data[data['_res_before'].notna()]"
   ]
  },
  {
   "cell_type": "code",
   "execution_count": 207,
   "id": "b5d7eff0",
   "metadata": {},
   "outputs": [],
   "source": [
    "# task['test_patch']\n",
    "# !df -h ."
   ]
  },
  {
   "cell_type": "code",
   "execution_count": null,
   "id": "ab5f6bc1",
   "metadata": {},
   "outputs": [],
   "source": [
    "# task['patch']"
   ]
  },
  {
   "cell_type": "code",
   "execution_count": null,
   "id": "90a04594",
   "metadata": {},
   "outputs": [],
   "source": [
    "# data"
   ]
  },
  {
   "cell_type": "code",
   "execution_count": null,
   "id": "b9d66aa9",
   "metadata": {},
   "outputs": [],
   "source": [
    "# repo = PythonDockerRepo(repo = task['repo_name'],\n",
    "#                         base_commit = task['base_commit_before'],\n",
    "#                         image_name = image_name\n",
    "#                        )"
   ]
  },
  {
   "cell_type": "code",
   "execution_count": null,
   "id": "e1285ef6",
   "metadata": {},
   "outputs": [],
   "source": [
    "# repo.clean()"
   ]
  },
  {
   "cell_type": "code",
   "execution_count": 208,
   "id": "1f7e9f98",
   "metadata": {},
   "outputs": [],
   "source": [
    "# Хорошие примеры:\n",
    "#  - содержат problem_statement\n",
    "#  - есть test:\n",
    "#         before[test] = any\n",
    "#         test_patch[test] = fail\n",
    "#         patch[test] = any\n",
    "#         full_path[test] = passed"
   ]
  },
  {
   "cell_type": "code",
   "execution_count": 185,
   "id": "8b1447f0",
   "metadata": {},
   "outputs": [],
   "source": [
    "data.to_parquet(\"data_250409.parquet\")"
   ]
  },
  {
   "cell_type": "code",
   "execution_count": 209,
   "id": "559500de",
   "metadata": {},
   "outputs": [],
   "source": [
    "# task['small_test_command']\n",
    "# !df -h ."
   ]
  },
  {
   "cell_type": "code",
   "execution_count": 210,
   "id": "79e7ecd9",
   "metadata": {},
   "outputs": [],
   "source": [
    "# data\n",
    "\n",
    "def get_pass_fail_detail_stat(task):\n",
    "    test_before = json.loads(task['_res_before'])\n",
    "    test_test_patch = json.loads(task['_res_test_patch'])\n",
    "    test_patch = json.loads(task['_res_patch'])\n",
    "    test_full_patch = json.loads(task['_res_full_patch'])\n",
    "\n",
    "    def get_test_dict(dct):\n",
    "        res = {}\n",
    "        for i in dct['pytest_json']['tests']:\n",
    "            assert i['nodeid'] not in res\n",
    "            res[i['nodeid']] = i['outcome']\n",
    "        return res\n",
    "\n",
    "    test_before = get_test_dict(test_before)\n",
    "    test_test_patch = get_test_dict(test_test_patch)\n",
    "    test_patch = get_test_dict(test_patch)\n",
    "    test_full_patch = get_test_dict(test_full_patch)\n",
    "\n",
    "    res = {}\n",
    "    pass_to_pass = set()\n",
    "    fail_to_pass = set()\n",
    "    for test in (set(test_before.keys()) | set(test_test_patch.keys()) | set(test_patch.keys()) | set(test_full_patch.keys())):\n",
    "        if not (test_before.get(test, None) == test_test_patch.get(test, None) == test_patch.get(test, None) == test_full_patch.get(test, None)):\n",
    "            res[test] = {'\\tbefore': test_before.get(test, None),\n",
    "            'test_patch' : test_test_patch.get(test, None),\n",
    "            'patch' : test_patch.get(test, None),\n",
    "            'full_patch' : test_full_patch.get(test, None)}\n",
    "            if (test_test_patch.get(test, None) != 'passed') and (test_full_patch.get(test, None) == 'passed'):\n",
    "                pass_to_pass.add(test)\n",
    "            if (test_test_patch.get(test, None) != 'passed') and (test_full_patch.get(test, None) != 'passed'):\n",
    "                fail_to_pass.add(test)\n",
    "    return {\"pass_to_pass\": pass_to_pass,\n",
    "            \"fail_to_pass\": fail_to_pass,\n",
    "            \"details\": res\n",
    "           }"
   ]
  },
  {
   "cell_type": "code",
   "execution_count": 211,
   "id": "0df810c2",
   "metadata": {},
   "outputs": [],
   "source": [
    "df35 = data[data['_res_full_patch'].notna()]"
   ]
  },
  {
   "cell_type": "code",
   "execution_count": 214,
   "id": "e9bfb2ad",
   "metadata": {},
   "outputs": [
    {
     "data": {
      "text/plain": [
       "305"
      ]
     },
     "execution_count": 214,
     "metadata": {},
     "output_type": "execute_result"
    }
   ],
   "source": [
    "df35['base_commit_before'].nunique()"
   ]
  },
  {
   "cell_type": "code",
   "execution_count": 213,
   "id": "4a9f8108",
   "metadata": {},
   "outputs": [
    {
     "name": "stderr",
     "output_type": "stream",
     "text": [
      "/tmp/ipykernel_1827281/223995053.py:1: SettingWithCopyWarning: \n",
      "A value is trying to be set on a copy of a slice from a DataFrame.\n",
      "Try using .loc[row_indexer,col_indexer] = value instead\n",
      "\n",
      "See the caveats in the documentation: https://pandas.pydata.org/pandas-docs/stable/user_guide/indexing.html#returning-a-view-versus-a-copy\n",
      "  df35['PASS_TO_PASS'] = \"\"\n",
      "/tmp/ipykernel_1827281/223995053.py:2: SettingWithCopyWarning: \n",
      "A value is trying to be set on a copy of a slice from a DataFrame.\n",
      "Try using .loc[row_indexer,col_indexer] = value instead\n",
      "\n",
      "See the caveats in the documentation: https://pandas.pydata.org/pandas-docs/stable/user_guide/indexing.html#returning-a-view-versus-a-copy\n",
      "  df35['FAIL_TO_PASS'] = \"\"\n",
      "/tmp/ipykernel_1827281/223995053.py:3: SettingWithCopyWarning: \n",
      "A value is trying to be set on a copy of a slice from a DataFrame.\n",
      "Try using .loc[row_indexer,col_indexer] = value instead\n",
      "\n",
      "See the caveats in the documentation: https://pandas.pydata.org/pandas-docs/stable/user_guide/indexing.html#returning-a-view-versus-a-copy\n",
      "  df35['details'] = \"\"\n"
     ]
    }
   ],
   "source": [
    "df35['PASS_TO_PASS'] = \"\"\n",
    "df35['FAIL_TO_PASS'] = \"\"\n",
    "df35['details'] = \"\""
   ]
  },
  {
   "cell_type": "code",
   "execution_count": 215,
   "id": "aca672aa",
   "metadata": {},
   "outputs": [],
   "source": [
    "for ind, task in df35.iterrows():\n",
    "    try:\n",
    "        tmp = get_pass_fail_detail_stat(task)\n",
    "    except:\n",
    "        continue\n",
    "    \n",
    "    df35.loc[ind, 'PASS_TO_PASS'] = json.dumps(list(tmp.get('pass_to_pass', [])))\n",
    "    df35.loc[ind, 'FAIL_TO_PASS'] = json.dumps(list(tmp.get('fail_to_pass', [])))\n",
    "    df35.loc[ind, 'details']      = json.dumps(tmp.get('details'))"
   ]
  },
  {
   "cell_type": "code",
   "execution_count": 216,
   "id": "36db7482",
   "metadata": {},
   "outputs": [],
   "source": [
    "df35.to_parquet(f\"{len(df35)}_examples.parquet\")"
   ]
  },
  {
   "cell_type": "code",
   "execution_count": 160,
   "id": "a2bbd5d7",
   "metadata": {},
   "outputs": [
    {
     "data": {
      "text/plain": [
       "0          [\"sympy/core/tests/test_arit.py::test_Mod\"]\n",
       "1    [\"sympy/polys/numberfields/tests/test_subfield...\n",
       "4    [\"sympy/polys/numberfields/tests/test_subfield...\n",
       "7                                                     \n",
       "Name: PASS_TO_PASS, dtype: object"
      ]
     },
     "execution_count": 160,
     "metadata": {},
     "output_type": "execute_result"
    }
   ],
   "source": [
    "# df35[column][:3].apply(json.loads)\n",
    "df35['PASS_TO_PASS'][:4]#.apply(json.loads)"
   ]
  },
  {
   "cell_type": "code",
   "execution_count": 161,
   "id": "d69c69cd",
   "metadata": {},
   "outputs": [
    {
     "name": "stdout",
     "output_type": "stream",
     "text": [
      "_res_before\n",
      "_res_test_patch\n",
      "_res_patch\n",
      "_res_full_patch\n"
     ]
    },
    {
     "name": "stderr",
     "output_type": "stream",
     "text": [
      "/tmp/ipykernel_1827281/2995188601.py:4: SettingWithCopyWarning: \n",
      "A value is trying to be set on a copy of a slice from a DataFrame.\n",
      "Try using .loc[row_indexer,col_indexer] = value instead\n",
      "\n",
      "See the caveats in the documentation: https://pandas.pydata.org/pandas-docs/stable/user_guide/indexing.html#returning-a-view-versus-a-copy\n",
      "  df35[column] = df35[column].apply(lambda x: json.loads(x) if x else None)\n"
     ]
    },
    {
     "name": "stdout",
     "output_type": "stream",
     "text": [
      "PASS_TO_PASS\n",
      "FAIL_TO_PASS\n",
      "details\n"
     ]
    }
   ],
   "source": [
    "for column in ['_res_before', '_res_test_patch', '_res_patch', \n",
    "               '_res_full_patch', 'PASS_TO_PASS', 'FAIL_TO_PASS', 'details']:\n",
    "    print(column)\n",
    "    df35[column] = df35[column].apply(lambda x: json.loads(x) if x else None)\n",
    "               "
   ]
  },
  {
   "cell_type": "code",
   "execution_count": null,
   "id": "b80457e9",
   "metadata": {},
   "outputs": [],
   "source": [
    "# df35"
   ]
  },
  {
   "cell_type": "code",
   "execution_count": 166,
   "id": "dc5340ed",
   "metadata": {},
   "outputs": [
    {
     "data": {
      "text/html": [
       "<div>\n",
       "<style scoped>\n",
       "    .dataframe tbody tr th:only-of-type {\n",
       "        vertical-align: middle;\n",
       "    }\n",
       "\n",
       "    .dataframe tbody tr th {\n",
       "        vertical-align: top;\n",
       "    }\n",
       "\n",
       "    .dataframe thead th {\n",
       "        text-align: right;\n",
       "    }\n",
       "</style>\n",
       "<table border=\"1\" class=\"dataframe\">\n",
       "  <thead>\n",
       "    <tr style=\"text-align: right;\">\n",
       "      <th></th>\n",
       "      <th>orig_id</th>\n",
       "      <th>repo_name</th>\n",
       "      <th>base_commit_before</th>\n",
       "      <th>base_commit_after</th>\n",
       "      <th>problem_statement</th>\n",
       "      <th>created_at</th>\n",
       "      <th>build_command</th>\n",
       "      <th>test_command</th>\n",
       "      <th>resolving_commit_id</th>\n",
       "      <th>resolving_commit_date</th>\n",
       "      <th>...</th>\n",
       "      <th>patch</th>\n",
       "      <th>test_files</th>\n",
       "      <th>small_test_command</th>\n",
       "      <th>_res_before</th>\n",
       "      <th>_res_test_patch</th>\n",
       "      <th>_res_patch</th>\n",
       "      <th>_res_full_patch</th>\n",
       "      <th>PASS_TO_PASS</th>\n",
       "      <th>FAIL_TO_PASS</th>\n",
       "      <th>details</th>\n",
       "    </tr>\n",
       "  </thead>\n",
       "  <tbody>\n",
       "    <tr>\n",
       "      <th>4</th>\n",
       "      <td>2</td>\n",
       "      <td>sympy/sympy</td>\n",
       "      <td>490c6d0f7df7b02a70e04c0ed4ead899cd430e70</td>\n",
       "      <td>9173d613a048493c1a4bfb07e69a419b1c73aa3d</td>\n",
       "      <td>Issue #27798: Here is a reproduction.\\n```pyth...</td>\n",
       "      <td>2025-03-20 15:28:03+00:00</td>\n",
       "      <td>pip install .\\npip install -r requirements-dev...</td>\n",
       "      <td>pytest --json-report --json-report-file=report...</td>\n",
       "      <td>9173d613a048493c1a4bfb07e69a419b1c73aa3d</td>\n",
       "      <td>2025-03-22 11:46:24+00:00</td>\n",
       "      <td>...</td>\n",
       "      <td>diff --git a/sympy/polys/numberfields/subfield...</td>\n",
       "      <td>[sympy/polys/numberfields/tests/test_subfield.py]</td>\n",
       "      <td>pytest sympy/polys/numberfields/tests/test_sub...</td>\n",
       "      <td>{'stdout': '============================= test...</td>\n",
       "      <td>{'stdout': '============================= test...</td>\n",
       "      <td>{'stdout': '============================= test...</td>\n",
       "      <td>{'stdout': '============================= test...</td>\n",
       "      <td>[sympy/polys/numberfields/tests/test_subfield....</td>\n",
       "      <td>[]</td>\n",
       "      <td>{'sympy/polys/numberfields/tests/test_subfield...</td>\n",
       "    </tr>\n",
       "    <tr>\n",
       "      <th>11</th>\n",
       "      <td>5</td>\n",
       "      <td>sympy/sympy</td>\n",
       "      <td>84f0a73189d94afb813c75f49c3c0470b567f848</td>\n",
       "      <td>23c84d5bf9541778873e4f3f35841b70e45d4049</td>\n",
       "      <td>Issue #27777: In the documentation we can enco...</td>\n",
       "      <td>2025-03-16 19:58:55+00:00</td>\n",
       "      <td>pip install .\\npip install -r requirements-dev...</td>\n",
       "      <td>pytest --json-report --json-report-file=report...</td>\n",
       "      <td>23c84d5bf9541778873e4f3f35841b70e45d4049</td>\n",
       "      <td>2025-03-17 21:23:29+09:00</td>\n",
       "      <td>...</td>\n",
       "      <td>diff --git a/.github/workflows/runtests.yml b/...</td>\n",
       "      <td>[bin/test_pytorch.py, sympy/printing/tests/tes...</td>\n",
       "      <td>pytest bin/test_pytorch.py sympy/printing/test...</td>\n",
       "      <td>{'stdout': '============================= test...</td>\n",
       "      <td>{'stdout': '============================= test...</td>\n",
       "      <td>{'stdout': '============================= test...</td>\n",
       "      <td>{'stdout': '============================= test...</td>\n",
       "      <td>[sympy/printing/tests/test_torch.py::test_torc...</td>\n",
       "      <td>[sympy/printing/tests/test_torch.py::test_torc...</td>\n",
       "      <td>{'sympy/printing/tests/test_torch.py::test_tor...</td>\n",
       "    </tr>\n",
       "    <tr>\n",
       "      <th>32</th>\n",
       "      <td>16</td>\n",
       "      <td>sympy/sympy</td>\n",
       "      <td>4d8872f0cb9b5a32db80a80d98c8c4b9d11e3b37</td>\n",
       "      <td>bfdb8d51c1064a51a9ba050c608b92ba7de9eabc</td>\n",
       "      <td>Issue #22014: from this SO [post](https://stac...</td>\n",
       "      <td>2021-09-03 11:26:02+00:00</td>\n",
       "      <td>pip install .\\npip install -r requirements-dev...</td>\n",
       "      <td>pytest --json-report --json-report-file=report...</td>\n",
       "      <td>bfdb8d51c1064a51a9ba050c608b92ba7de9eabc</td>\n",
       "      <td>2025-03-09 13:14:25-07:00</td>\n",
       "      <td>...</td>\n",
       "      <td>diff --git a/sympy/assumptions/handlers/sets.p...</td>\n",
       "      <td>[sympy/assumptions/tests/test_query.py]</td>\n",
       "      <td>pytest sympy/assumptions/tests/test_query.py -...</td>\n",
       "      <td>{'stdout': '============================= test...</td>\n",
       "      <td>{'stdout': '============================= test...</td>\n",
       "      <td>{'stdout': '============================= test...</td>\n",
       "      <td>{'stdout': '============================= test...</td>\n",
       "      <td>[sympy/assumptions/tests/test_query.py::test_r...</td>\n",
       "      <td>[]</td>\n",
       "      <td>{'sympy/assumptions/tests/test_query.py::test_...</td>\n",
       "    </tr>\n",
       "    <tr>\n",
       "      <th>33</th>\n",
       "      <td>16</td>\n",
       "      <td>sympy/sympy</td>\n",
       "      <td>29b12a274115383dcb3be85ee95d14dee9e365df</td>\n",
       "      <td>bfdb8d51c1064a51a9ba050c608b92ba7de9eabc</td>\n",
       "      <td>Issue #22014: from this SO [post](https://stac...</td>\n",
       "      <td>2021-09-03 11:26:02+00:00</td>\n",
       "      <td>pip install .\\npip install -r requirements-dev...</td>\n",
       "      <td>pytest --json-report --json-report-file=report...</td>\n",
       "      <td>bfdb8d51c1064a51a9ba050c608b92ba7de9eabc</td>\n",
       "      <td>2025-03-09 13:14:25-07:00</td>\n",
       "      <td>...</td>\n",
       "      <td>diff --git a/bin/test b/bin/test\\nindex 783827...</td>\n",
       "      <td>[sympy/assumptions/tests/test_query.py, sympy/...</td>\n",
       "      <td>pytest sympy/assumptions/tests/test_query.py s...</td>\n",
       "      <td>{'stdout': '============================= test...</td>\n",
       "      <td>{'stdout': '============================= test...</td>\n",
       "      <td>{'stdout': '============================= test...</td>\n",
       "      <td>{'stdout': '============================= test...</td>\n",
       "      <td>[sympy/polys/matrices/tests/test_fflu.py::test...</td>\n",
       "      <td>[sympy/polys/matrices/tests/test_xxm.py::test_...</td>\n",
       "      <td>{'sympy/physics/mechanics/tests/test_actuator....</td>\n",
       "    </tr>\n",
       "    <tr>\n",
       "      <th>36</th>\n",
       "      <td>18</td>\n",
       "      <td>sympy/sympy</td>\n",
       "      <td>ddea9b09a62294b99a63d8ceafa13508efb61c32</td>\n",
       "      <td>b836671fe8459e9301c620117b660c6c8ca20264</td>\n",
       "      <td>Issue #7286: Copy paste from the mailing list:...</td>\n",
       "      <td>2014-03-17 00:22:51+00:00</td>\n",
       "      <td>pip install .\\npip install -r requirements-dev...</td>\n",
       "      <td>pytest --json-report --json-report-file=report...</td>\n",
       "      <td>b836671fe8459e9301c620117b660c6c8ca20264</td>\n",
       "      <td>2025-03-07 17:32:26-08:00</td>\n",
       "      <td>...</td>\n",
       "      <td>diff --git a/sympy/assumptions/handlers/sets.p...</td>\n",
       "      <td>[sympy/assumptions/tests/test_query.py]</td>\n",
       "      <td>pytest sympy/assumptions/tests/test_query.py -...</td>\n",
       "      <td>{'stdout': '============================= test...</td>\n",
       "      <td>{'stdout': '============================= test...</td>\n",
       "      <td>{'stdout': '============================= test...</td>\n",
       "      <td>{'stdout': '============================= test...</td>\n",
       "      <td>[sympy/assumptions/tests/test_query.py::test_i...</td>\n",
       "      <td>[]</td>\n",
       "      <td>{'sympy/assumptions/tests/test_query.py::test_...</td>\n",
       "    </tr>\n",
       "    <tr>\n",
       "      <th>37</th>\n",
       "      <td>18</td>\n",
       "      <td>sympy/sympy</td>\n",
       "      <td>fd59800748ed43d711dbe7c1419e8fd15a2b1230</td>\n",
       "      <td>b836671fe8459e9301c620117b660c6c8ca20264</td>\n",
       "      <td>Issue #7286: Copy paste from the mailing list:...</td>\n",
       "      <td>2014-03-17 00:22:51+00:00</td>\n",
       "      <td>pip install .\\npip install -r requirements-dev...</td>\n",
       "      <td>pytest --json-report --json-report-file=report...</td>\n",
       "      <td>b836671fe8459e9301c620117b660c6c8ca20264</td>\n",
       "      <td>2025-03-07 17:32:26-08:00</td>\n",
       "      <td>...</td>\n",
       "      <td>diff --git a/.mailmap b/.mailmap\\nindex f9cd6f...</td>\n",
       "      <td>[sympy/assumptions/tests/test_query.py, sympy/...</td>\n",
       "      <td>pytest sympy/assumptions/tests/test_query.py s...</td>\n",
       "      <td>{'stdout': '============================= test...</td>\n",
       "      <td>{'stdout': '============================= test...</td>\n",
       "      <td>{'stdout': '============================= test...</td>\n",
       "      <td>{'stdout': '============================= test...</td>\n",
       "      <td>[sympy/polys/matrices/tests/test_fflu.py::test...</td>\n",
       "      <td>[sympy/polys/matrices/tests/test_xxm.py::test_...</td>\n",
       "      <td>{'sympy/physics/mechanics/tests/test_actuator....</td>\n",
       "    </tr>\n",
       "    <tr>\n",
       "      <th>42</th>\n",
       "      <td>21</td>\n",
       "      <td>sympy/sympy</td>\n",
       "      <td>b6091e94af5ce0464472b5639503e3117efe8dee</td>\n",
       "      <td>ba9d0f610617b919c657187aad12bef73866ba3c</td>\n",
       "      <td>Issue #27707: **Description:**\\n\\nThere is an ...</td>\n",
       "      <td>2025-03-06 21:29:20+00:00</td>\n",
       "      <td>pip install .\\npip install -r requirements-dev...</td>\n",
       "      <td>pytest --json-report --json-report-file=report...</td>\n",
       "      <td>ba9d0f610617b919c657187aad12bef73866ba3c</td>\n",
       "      <td>2025-03-06 23:33:27-08:00</td>\n",
       "      <td>...</td>\n",
       "      <td>diff --git a/sympy/assumptions/handlers/calcul...</td>\n",
       "      <td>[sympy/assumptions/tests/test_query.py]</td>\n",
       "      <td>pytest sympy/assumptions/tests/test_query.py -...</td>\n",
       "      <td>{'stdout': '============================= test...</td>\n",
       "      <td>{'stdout': '============================= test...</td>\n",
       "      <td>{'stdout': '============================= test...</td>\n",
       "      <td>{'stdout': '============================= test...</td>\n",
       "      <td>[sympy/assumptions/tests/test_query.py::test_b...</td>\n",
       "      <td>[]</td>\n",
       "      <td>{'sympy/assumptions/tests/test_query.py::test_...</td>\n",
       "    </tr>\n",
       "    <tr>\n",
       "      <th>48</th>\n",
       "      <td>24</td>\n",
       "      <td>sympy/sympy</td>\n",
       "      <td>f61377b13528303c12a27d8c8745e56616f029a3</td>\n",
       "      <td>dc6baa2d9238dc46dcb617c37538a5f2c341d51e</td>\n",
       "      <td>Issue #27250: I tried applying Gram-Schmidt to...</td>\n",
       "      <td>2024-11-12 14:10:26+00:00</td>\n",
       "      <td>pip install .\\npip install -r requirements-dev...</td>\n",
       "      <td>pytest --json-report --json-report-file=report...</td>\n",
       "      <td>dc6baa2d9238dc46dcb617c37538a5f2c341d51e</td>\n",
       "      <td>2025-03-05 21:07:57+00:00</td>\n",
       "      <td>...</td>\n",
       "      <td>diff --git a/sympy/polys/matrices/_dfm.py b/sy...</td>\n",
       "      <td>[sympy/polys/matrices/tests/test_domainmatrix....</td>\n",
       "      <td>pytest sympy/polys/matrices/tests/test_domainm...</td>\n",
       "      <td>{'stdout': '============================= test...</td>\n",
       "      <td>{'stdout': '============================= test...</td>\n",
       "      <td>{'stdout': '============================= test...</td>\n",
       "      <td>{'stdout': '============================= test...</td>\n",
       "      <td>[sympy/polys/matrices/tests/test_fflu.py::test...</td>\n",
       "      <td>[sympy/polys/matrices/tests/test_xxm.py::test_...</td>\n",
       "      <td>{'sympy/polys/matrices/tests/test_fflu.py::tes...</td>\n",
       "    </tr>\n",
       "    <tr>\n",
       "      <th>49</th>\n",
       "      <td>24</td>\n",
       "      <td>sympy/sympy</td>\n",
       "      <td>ba9e7bb1fb5498e20994684c428b0256f4c46e95</td>\n",
       "      <td>dc6baa2d9238dc46dcb617c37538a5f2c341d51e</td>\n",
       "      <td>Issue #27250: I tried applying Gram-Schmidt to...</td>\n",
       "      <td>2024-11-12 14:10:26+00:00</td>\n",
       "      <td>pip install .\\npip install -r requirements-dev...</td>\n",
       "      <td>pytest --json-report --json-report-file=report...</td>\n",
       "      <td>dc6baa2d9238dc46dcb617c37538a5f2c341d51e</td>\n",
       "      <td>2025-03-05 21:07:57+00:00</td>\n",
       "      <td>...</td>\n",
       "      <td>diff --git a/.github/workflows/emscripten.yml ...</td>\n",
       "      <td>[sympy/assumptions/tests/test_query.py, sympy/...</td>\n",
       "      <td>pytest sympy/assumptions/tests/test_query.py s...</td>\n",
       "      <td>{'stdout': '============================= test...</td>\n",
       "      <td>{'stdout': '============================= test...</td>\n",
       "      <td>{'stdout': '============================= test...</td>\n",
       "      <td>{'stdout': '============================= test...</td>\n",
       "      <td>[sympy/ntheory/tests/test_primetest.py::test_i...</td>\n",
       "      <td>[sympy/utilities/tests/test_lambdify.py::test_...</td>\n",
       "      <td>{'sympy/ntheory/tests/test_primetest.py::test_...</td>\n",
       "    </tr>\n",
       "    <tr>\n",
       "      <th>64</th>\n",
       "      <td>32</td>\n",
       "      <td>sympy/sympy</td>\n",
       "      <td>8904bbb8952de5fdc00b6c57bf6f3a4d022a558f</td>\n",
       "      <td>dd1fcab3e10b15727db3964b821088105d09018a</td>\n",
       "      <td>Issue #27442: ```python\\n&gt;&gt;&gt;from sympy import ...</td>\n",
       "      <td>2025-01-05 09:57:25+00:00</td>\n",
       "      <td>pip install .\\npip install -r requirements-dev...</td>\n",
       "      <td>pytest --json-report --json-report-file=report...</td>\n",
       "      <td>dd1fcab3e10b15727db3964b821088105d09018a</td>\n",
       "      <td>2025-02-27 18:57:41-08:00</td>\n",
       "      <td>...</td>\n",
       "      <td>diff --git a/sympy/assumptions/handlers/sets.p...</td>\n",
       "      <td>[sympy/assumptions/tests/test_query.py]</td>\n",
       "      <td>pytest sympy/assumptions/tests/test_query.py -...</td>\n",
       "      <td>{'stdout': '============================= test...</td>\n",
       "      <td>{'stdout': '============================= test...</td>\n",
       "      <td>{'stdout': '============================= test...</td>\n",
       "      <td>{'stdout': '============================= test...</td>\n",
       "      <td>[sympy/assumptions/tests/test_query.py::test_r...</td>\n",
       "      <td>[]</td>\n",
       "      <td>{'sympy/assumptions/tests/test_query.py::test_...</td>\n",
       "    </tr>\n",
       "    <tr>\n",
       "      <th>65</th>\n",
       "      <td>32</td>\n",
       "      <td>sympy/sympy</td>\n",
       "      <td>ee26efe8233d34ba39a47e96d38cf0c004c3e3f8</td>\n",
       "      <td>dd1fcab3e10b15727db3964b821088105d09018a</td>\n",
       "      <td>Issue #27442: ```python\\n&gt;&gt;&gt;from sympy import ...</td>\n",
       "      <td>2025-01-05 09:57:25+00:00</td>\n",
       "      <td>pip install .\\npip install -r requirements-dev...</td>\n",
       "      <td>pytest --json-report --json-report-file=report...</td>\n",
       "      <td>dd1fcab3e10b15727db3964b821088105d09018a</td>\n",
       "      <td>2025-02-27 18:57:41-08:00</td>\n",
       "      <td>...</td>\n",
       "      <td>diff --git a/.github/workflows/emscripten.yml ...</td>\n",
       "      <td>[sympy/assumptions/tests/test_query.py, sympy/...</td>\n",
       "      <td>pytest sympy/assumptions/tests/test_query.py s...</td>\n",
       "      <td>{'stdout': '============================= test...</td>\n",
       "      <td>{'stdout': '============================= test...</td>\n",
       "      <td>{'stdout': '============================= test...</td>\n",
       "      <td>{'stdout': '============================= test...</td>\n",
       "      <td>[sympy/ntheory/tests/test_primetest.py::test_i...</td>\n",
       "      <td>[sympy/utilities/tests/test_lambdify.py::test_...</td>\n",
       "      <td>{'sympy/integrals/tests/test_integrals.py::tes...</td>\n",
       "    </tr>\n",
       "    <tr>\n",
       "      <th>66</th>\n",
       "      <td>33</td>\n",
       "      <td>sympy/sympy</td>\n",
       "      <td>58f201369c919aa2c1eac71fd958b3186c9b3f28</td>\n",
       "      <td>8904bbb8952de5fdc00b6c57bf6f3a4d022a558f</td>\n",
       "      <td>Issue #27610: The `Q.infinite` predicate retur...</td>\n",
       "      <td>2025-02-17 17:32:53+00:00</td>\n",
       "      <td>pip install .\\npip install -r requirements-dev...</td>\n",
       "      <td>pytest --json-report --json-report-file=report...</td>\n",
       "      <td>8904bbb8952de5fdc00b6c57bf6f3a4d022a558f</td>\n",
       "      <td>2025-02-27 13:24:50-08:00</td>\n",
       "      <td>...</td>\n",
       "      <td>diff --git a/sympy/assumptions/handlers/calcul...</td>\n",
       "      <td>[sympy/assumptions/tests/test_query.py]</td>\n",
       "      <td>pytest sympy/assumptions/tests/test_query.py -...</td>\n",
       "      <td>{'stdout': '============================= test...</td>\n",
       "      <td>{'stdout': '============================= test...</td>\n",
       "      <td>{'stdout': '============================= test...</td>\n",
       "      <td>{'stdout': '============================= test...</td>\n",
       "      <td>None</td>\n",
       "      <td>None</td>\n",
       "      <td>None</td>\n",
       "    </tr>\n",
       "    <tr>\n",
       "      <th>67</th>\n",
       "      <td>33</td>\n",
       "      <td>sympy/sympy</td>\n",
       "      <td>a021d8d9a0da6582a518c1bb9bcad79057c6b36f</td>\n",
       "      <td>8904bbb8952de5fdc00b6c57bf6f3a4d022a558f</td>\n",
       "      <td>Issue #27610: The `Q.infinite` predicate retur...</td>\n",
       "      <td>2025-02-17 17:32:53+00:00</td>\n",
       "      <td>pip install .\\npip install -r requirements-dev...</td>\n",
       "      <td>pytest --json-report --json-report-file=report...</td>\n",
       "      <td>8904bbb8952de5fdc00b6c57bf6f3a4d022a558f</td>\n",
       "      <td>2025-02-27 13:24:50-08:00</td>\n",
       "      <td>...</td>\n",
       "      <td>diff --git a/.github/workflows/emscripten.yml ...</td>\n",
       "      <td>[sympy/assumptions/tests/test_query.py, sympy/...</td>\n",
       "      <td>pytest sympy/assumptions/tests/test_query.py s...</td>\n",
       "      <td>{'stdout': '============================= test...</td>\n",
       "      <td>{'stdout': '============================= test...</td>\n",
       "      <td>{'stdout': '============================= test...</td>\n",
       "      <td>{'stdout': '============================= test...</td>\n",
       "      <td>[sympy/ntheory/tests/test_primetest.py::test_i...</td>\n",
       "      <td>[sympy/utilities/tests/test_lambdify.py::test_...</td>\n",
       "      <td>{'sympy/integrals/tests/test_integrals.py::tes...</td>\n",
       "    </tr>\n",
       "  </tbody>\n",
       "</table>\n",
       "<p>13 rows × 34 columns</p>\n",
       "</div>"
      ],
      "text/plain": [
       "    orig_id    repo_name                        base_commit_before  \\\n",
       "4         2  sympy/sympy  490c6d0f7df7b02a70e04c0ed4ead899cd430e70   \n",
       "11        5  sympy/sympy  84f0a73189d94afb813c75f49c3c0470b567f848   \n",
       "32       16  sympy/sympy  4d8872f0cb9b5a32db80a80d98c8c4b9d11e3b37   \n",
       "33       16  sympy/sympy  29b12a274115383dcb3be85ee95d14dee9e365df   \n",
       "36       18  sympy/sympy  ddea9b09a62294b99a63d8ceafa13508efb61c32   \n",
       "37       18  sympy/sympy  fd59800748ed43d711dbe7c1419e8fd15a2b1230   \n",
       "42       21  sympy/sympy  b6091e94af5ce0464472b5639503e3117efe8dee   \n",
       "48       24  sympy/sympy  f61377b13528303c12a27d8c8745e56616f029a3   \n",
       "49       24  sympy/sympy  ba9e7bb1fb5498e20994684c428b0256f4c46e95   \n",
       "64       32  sympy/sympy  8904bbb8952de5fdc00b6c57bf6f3a4d022a558f   \n",
       "65       32  sympy/sympy  ee26efe8233d34ba39a47e96d38cf0c004c3e3f8   \n",
       "66       33  sympy/sympy  58f201369c919aa2c1eac71fd958b3186c9b3f28   \n",
       "67       33  sympy/sympy  a021d8d9a0da6582a518c1bb9bcad79057c6b36f   \n",
       "\n",
       "                           base_commit_after  \\\n",
       "4   9173d613a048493c1a4bfb07e69a419b1c73aa3d   \n",
       "11  23c84d5bf9541778873e4f3f35841b70e45d4049   \n",
       "32  bfdb8d51c1064a51a9ba050c608b92ba7de9eabc   \n",
       "33  bfdb8d51c1064a51a9ba050c608b92ba7de9eabc   \n",
       "36  b836671fe8459e9301c620117b660c6c8ca20264   \n",
       "37  b836671fe8459e9301c620117b660c6c8ca20264   \n",
       "42  ba9d0f610617b919c657187aad12bef73866ba3c   \n",
       "48  dc6baa2d9238dc46dcb617c37538a5f2c341d51e   \n",
       "49  dc6baa2d9238dc46dcb617c37538a5f2c341d51e   \n",
       "64  dd1fcab3e10b15727db3964b821088105d09018a   \n",
       "65  dd1fcab3e10b15727db3964b821088105d09018a   \n",
       "66  8904bbb8952de5fdc00b6c57bf6f3a4d022a558f   \n",
       "67  8904bbb8952de5fdc00b6c57bf6f3a4d022a558f   \n",
       "\n",
       "                                    problem_statement  \\\n",
       "4   Issue #27798: Here is a reproduction.\\n```pyth...   \n",
       "11  Issue #27777: In the documentation we can enco...   \n",
       "32  Issue #22014: from this SO [post](https://stac...   \n",
       "33  Issue #22014: from this SO [post](https://stac...   \n",
       "36  Issue #7286: Copy paste from the mailing list:...   \n",
       "37  Issue #7286: Copy paste from the mailing list:...   \n",
       "42  Issue #27707: **Description:**\\n\\nThere is an ...   \n",
       "48  Issue #27250: I tried applying Gram-Schmidt to...   \n",
       "49  Issue #27250: I tried applying Gram-Schmidt to...   \n",
       "64  Issue #27442: ```python\\n>>>from sympy import ...   \n",
       "65  Issue #27442: ```python\\n>>>from sympy import ...   \n",
       "66  Issue #27610: The `Q.infinite` predicate retur...   \n",
       "67  Issue #27610: The `Q.infinite` predicate retur...   \n",
       "\n",
       "                  created_at  \\\n",
       "4  2025-03-20 15:28:03+00:00   \n",
       "11 2025-03-16 19:58:55+00:00   \n",
       "32 2021-09-03 11:26:02+00:00   \n",
       "33 2021-09-03 11:26:02+00:00   \n",
       "36 2014-03-17 00:22:51+00:00   \n",
       "37 2014-03-17 00:22:51+00:00   \n",
       "42 2025-03-06 21:29:20+00:00   \n",
       "48 2024-11-12 14:10:26+00:00   \n",
       "49 2024-11-12 14:10:26+00:00   \n",
       "64 2025-01-05 09:57:25+00:00   \n",
       "65 2025-01-05 09:57:25+00:00   \n",
       "66 2025-02-17 17:32:53+00:00   \n",
       "67 2025-02-17 17:32:53+00:00   \n",
       "\n",
       "                                        build_command  \\\n",
       "4   pip install .\\npip install -r requirements-dev...   \n",
       "11  pip install .\\npip install -r requirements-dev...   \n",
       "32  pip install .\\npip install -r requirements-dev...   \n",
       "33  pip install .\\npip install -r requirements-dev...   \n",
       "36  pip install .\\npip install -r requirements-dev...   \n",
       "37  pip install .\\npip install -r requirements-dev...   \n",
       "42  pip install .\\npip install -r requirements-dev...   \n",
       "48  pip install .\\npip install -r requirements-dev...   \n",
       "49  pip install .\\npip install -r requirements-dev...   \n",
       "64  pip install .\\npip install -r requirements-dev...   \n",
       "65  pip install .\\npip install -r requirements-dev...   \n",
       "66  pip install .\\npip install -r requirements-dev...   \n",
       "67  pip install .\\npip install -r requirements-dev...   \n",
       "\n",
       "                                         test_command  \\\n",
       "4   pytest --json-report --json-report-file=report...   \n",
       "11  pytest --json-report --json-report-file=report...   \n",
       "32  pytest --json-report --json-report-file=report...   \n",
       "33  pytest --json-report --json-report-file=report...   \n",
       "36  pytest --json-report --json-report-file=report...   \n",
       "37  pytest --json-report --json-report-file=report...   \n",
       "42  pytest --json-report --json-report-file=report...   \n",
       "48  pytest --json-report --json-report-file=report...   \n",
       "49  pytest --json-report --json-report-file=report...   \n",
       "64  pytest --json-report --json-report-file=report...   \n",
       "65  pytest --json-report --json-report-file=report...   \n",
       "66  pytest --json-report --json-report-file=report...   \n",
       "67  pytest --json-report --json-report-file=report...   \n",
       "\n",
       "                         resolving_commit_id      resolving_commit_date  ...  \\\n",
       "4   9173d613a048493c1a4bfb07e69a419b1c73aa3d  2025-03-22 11:46:24+00:00  ...   \n",
       "11  23c84d5bf9541778873e4f3f35841b70e45d4049  2025-03-17 21:23:29+09:00  ...   \n",
       "32  bfdb8d51c1064a51a9ba050c608b92ba7de9eabc  2025-03-09 13:14:25-07:00  ...   \n",
       "33  bfdb8d51c1064a51a9ba050c608b92ba7de9eabc  2025-03-09 13:14:25-07:00  ...   \n",
       "36  b836671fe8459e9301c620117b660c6c8ca20264  2025-03-07 17:32:26-08:00  ...   \n",
       "37  b836671fe8459e9301c620117b660c6c8ca20264  2025-03-07 17:32:26-08:00  ...   \n",
       "42  ba9d0f610617b919c657187aad12bef73866ba3c  2025-03-06 23:33:27-08:00  ...   \n",
       "48  dc6baa2d9238dc46dcb617c37538a5f2c341d51e  2025-03-05 21:07:57+00:00  ...   \n",
       "49  dc6baa2d9238dc46dcb617c37538a5f2c341d51e  2025-03-05 21:07:57+00:00  ...   \n",
       "64  dd1fcab3e10b15727db3964b821088105d09018a  2025-02-27 18:57:41-08:00  ...   \n",
       "65  dd1fcab3e10b15727db3964b821088105d09018a  2025-02-27 18:57:41-08:00  ...   \n",
       "66  8904bbb8952de5fdc00b6c57bf6f3a4d022a558f  2025-02-27 13:24:50-08:00  ...   \n",
       "67  8904bbb8952de5fdc00b6c57bf6f3a4d022a558f  2025-02-27 13:24:50-08:00  ...   \n",
       "\n",
       "                                                patch  \\\n",
       "4   diff --git a/sympy/polys/numberfields/subfield...   \n",
       "11  diff --git a/.github/workflows/runtests.yml b/...   \n",
       "32  diff --git a/sympy/assumptions/handlers/sets.p...   \n",
       "33  diff --git a/bin/test b/bin/test\\nindex 783827...   \n",
       "36  diff --git a/sympy/assumptions/handlers/sets.p...   \n",
       "37  diff --git a/.mailmap b/.mailmap\\nindex f9cd6f...   \n",
       "42  diff --git a/sympy/assumptions/handlers/calcul...   \n",
       "48  diff --git a/sympy/polys/matrices/_dfm.py b/sy...   \n",
       "49  diff --git a/.github/workflows/emscripten.yml ...   \n",
       "64  diff --git a/sympy/assumptions/handlers/sets.p...   \n",
       "65  diff --git a/.github/workflows/emscripten.yml ...   \n",
       "66  diff --git a/sympy/assumptions/handlers/calcul...   \n",
       "67  diff --git a/.github/workflows/emscripten.yml ...   \n",
       "\n",
       "                                           test_files  \\\n",
       "4   [sympy/polys/numberfields/tests/test_subfield.py]   \n",
       "11  [bin/test_pytorch.py, sympy/printing/tests/tes...   \n",
       "32            [sympy/assumptions/tests/test_query.py]   \n",
       "33  [sympy/assumptions/tests/test_query.py, sympy/...   \n",
       "36            [sympy/assumptions/tests/test_query.py]   \n",
       "37  [sympy/assumptions/tests/test_query.py, sympy/...   \n",
       "42            [sympy/assumptions/tests/test_query.py]   \n",
       "48  [sympy/polys/matrices/tests/test_domainmatrix....   \n",
       "49  [sympy/assumptions/tests/test_query.py, sympy/...   \n",
       "64            [sympy/assumptions/tests/test_query.py]   \n",
       "65  [sympy/assumptions/tests/test_query.py, sympy/...   \n",
       "66            [sympy/assumptions/tests/test_query.py]   \n",
       "67  [sympy/assumptions/tests/test_query.py, sympy/...   \n",
       "\n",
       "                                   small_test_command  \\\n",
       "4   pytest sympy/polys/numberfields/tests/test_sub...   \n",
       "11  pytest bin/test_pytorch.py sympy/printing/test...   \n",
       "32  pytest sympy/assumptions/tests/test_query.py -...   \n",
       "33  pytest sympy/assumptions/tests/test_query.py s...   \n",
       "36  pytest sympy/assumptions/tests/test_query.py -...   \n",
       "37  pytest sympy/assumptions/tests/test_query.py s...   \n",
       "42  pytest sympy/assumptions/tests/test_query.py -...   \n",
       "48  pytest sympy/polys/matrices/tests/test_domainm...   \n",
       "49  pytest sympy/assumptions/tests/test_query.py s...   \n",
       "64  pytest sympy/assumptions/tests/test_query.py -...   \n",
       "65  pytest sympy/assumptions/tests/test_query.py s...   \n",
       "66  pytest sympy/assumptions/tests/test_query.py -...   \n",
       "67  pytest sympy/assumptions/tests/test_query.py s...   \n",
       "\n",
       "                                          _res_before  \\\n",
       "4   {'stdout': '============================= test...   \n",
       "11  {'stdout': '============================= test...   \n",
       "32  {'stdout': '============================= test...   \n",
       "33  {'stdout': '============================= test...   \n",
       "36  {'stdout': '============================= test...   \n",
       "37  {'stdout': '============================= test...   \n",
       "42  {'stdout': '============================= test...   \n",
       "48  {'stdout': '============================= test...   \n",
       "49  {'stdout': '============================= test...   \n",
       "64  {'stdout': '============================= test...   \n",
       "65  {'stdout': '============================= test...   \n",
       "66  {'stdout': '============================= test...   \n",
       "67  {'stdout': '============================= test...   \n",
       "\n",
       "                                      _res_test_patch  \\\n",
       "4   {'stdout': '============================= test...   \n",
       "11  {'stdout': '============================= test...   \n",
       "32  {'stdout': '============================= test...   \n",
       "33  {'stdout': '============================= test...   \n",
       "36  {'stdout': '============================= test...   \n",
       "37  {'stdout': '============================= test...   \n",
       "42  {'stdout': '============================= test...   \n",
       "48  {'stdout': '============================= test...   \n",
       "49  {'stdout': '============================= test...   \n",
       "64  {'stdout': '============================= test...   \n",
       "65  {'stdout': '============================= test...   \n",
       "66  {'stdout': '============================= test...   \n",
       "67  {'stdout': '============================= test...   \n",
       "\n",
       "                                           _res_patch  \\\n",
       "4   {'stdout': '============================= test...   \n",
       "11  {'stdout': '============================= test...   \n",
       "32  {'stdout': '============================= test...   \n",
       "33  {'stdout': '============================= test...   \n",
       "36  {'stdout': '============================= test...   \n",
       "37  {'stdout': '============================= test...   \n",
       "42  {'stdout': '============================= test...   \n",
       "48  {'stdout': '============================= test...   \n",
       "49  {'stdout': '============================= test...   \n",
       "64  {'stdout': '============================= test...   \n",
       "65  {'stdout': '============================= test...   \n",
       "66  {'stdout': '============================= test...   \n",
       "67  {'stdout': '============================= test...   \n",
       "\n",
       "                                      _res_full_patch  \\\n",
       "4   {'stdout': '============================= test...   \n",
       "11  {'stdout': '============================= test...   \n",
       "32  {'stdout': '============================= test...   \n",
       "33  {'stdout': '============================= test...   \n",
       "36  {'stdout': '============================= test...   \n",
       "37  {'stdout': '============================= test...   \n",
       "42  {'stdout': '============================= test...   \n",
       "48  {'stdout': '============================= test...   \n",
       "49  {'stdout': '============================= test...   \n",
       "64  {'stdout': '============================= test...   \n",
       "65  {'stdout': '============================= test...   \n",
       "66  {'stdout': '============================= test...   \n",
       "67  {'stdout': '============================= test...   \n",
       "\n",
       "                                         PASS_TO_PASS  \\\n",
       "4   [sympy/polys/numberfields/tests/test_subfield....   \n",
       "11  [sympy/printing/tests/test_torch.py::test_torc...   \n",
       "32  [sympy/assumptions/tests/test_query.py::test_r...   \n",
       "33  [sympy/polys/matrices/tests/test_fflu.py::test...   \n",
       "36  [sympy/assumptions/tests/test_query.py::test_i...   \n",
       "37  [sympy/polys/matrices/tests/test_fflu.py::test...   \n",
       "42  [sympy/assumptions/tests/test_query.py::test_b...   \n",
       "48  [sympy/polys/matrices/tests/test_fflu.py::test...   \n",
       "49  [sympy/ntheory/tests/test_primetest.py::test_i...   \n",
       "64  [sympy/assumptions/tests/test_query.py::test_r...   \n",
       "65  [sympy/ntheory/tests/test_primetest.py::test_i...   \n",
       "66                                               None   \n",
       "67  [sympy/ntheory/tests/test_primetest.py::test_i...   \n",
       "\n",
       "                                         FAIL_TO_PASS  \\\n",
       "4                                                  []   \n",
       "11  [sympy/printing/tests/test_torch.py::test_torc...   \n",
       "32                                                 []   \n",
       "33  [sympy/polys/matrices/tests/test_xxm.py::test_...   \n",
       "36                                                 []   \n",
       "37  [sympy/polys/matrices/tests/test_xxm.py::test_...   \n",
       "42                                                 []   \n",
       "48  [sympy/polys/matrices/tests/test_xxm.py::test_...   \n",
       "49  [sympy/utilities/tests/test_lambdify.py::test_...   \n",
       "64                                                 []   \n",
       "65  [sympy/utilities/tests/test_lambdify.py::test_...   \n",
       "66                                               None   \n",
       "67  [sympy/utilities/tests/test_lambdify.py::test_...   \n",
       "\n",
       "                                              details  \n",
       "4   {'sympy/polys/numberfields/tests/test_subfield...  \n",
       "11  {'sympy/printing/tests/test_torch.py::test_tor...  \n",
       "32  {'sympy/assumptions/tests/test_query.py::test_...  \n",
       "33  {'sympy/physics/mechanics/tests/test_actuator....  \n",
       "36  {'sympy/assumptions/tests/test_query.py::test_...  \n",
       "37  {'sympy/physics/mechanics/tests/test_actuator....  \n",
       "42  {'sympy/assumptions/tests/test_query.py::test_...  \n",
       "48  {'sympy/polys/matrices/tests/test_fflu.py::tes...  \n",
       "49  {'sympy/ntheory/tests/test_primetest.py::test_...  \n",
       "64  {'sympy/assumptions/tests/test_query.py::test_...  \n",
       "65  {'sympy/integrals/tests/test_integrals.py::tes...  \n",
       "66                                               None  \n",
       "67  {'sympy/integrals/tests/test_integrals.py::tes...  \n",
       "\n",
       "[13 rows x 34 columns]"
      ]
     },
     "execution_count": 166,
     "metadata": {},
     "output_type": "execute_result"
    }
   ],
   "source": [
    "# print(\"N=\", df35.shape[0])\n",
    "# print(\"base_commit.nunique\", df)\n",
    "df35[df35['problem_statement'].notna()]"
   ]
  },
  {
   "cell_type": "code",
   "execution_count": 167,
   "id": "b6bdeb61",
   "metadata": {},
   "outputs": [],
   "source": [
    "df35[df35['problem_statement'].notna()].to_json('13_examples.jsonl', \n",
    "                                                lines = True,\n",
    "                                                orient = 'records'\n",
    "                                               )"
   ]
  },
  {
   "cell_type": "code",
   "execution_count": 169,
   "id": "d8a2b74b",
   "metadata": {},
   "outputs": [
    {
     "name": "stdout",
     "output_type": "stream",
     "text": [
      "WARNING:root:Please install unicode_stats lib to get unicode table of content\n",
      "INFO:root:OK. Save results to 13_examples.html\n"
     ]
    }
   ],
   "source": [
    "!jsonl2html --index_column=problem_statement 13_examples.jsonl"
   ]
  },
  {
   "cell_type": "code",
   "execution_count": 219,
   "id": "38319079",
   "metadata": {},
   "outputs": [],
   "source": [
    "# get_test_dict(test_before)"
   ]
  },
  {
   "cell_type": "code",
   "execution_count": 220,
   "id": "c04e60ca",
   "metadata": {},
   "outputs": [],
   "source": [
    "# b = json.loads(data.loc[0, '_res_test_patch'])['pytest_json']['tests']\n",
    "# [(i['nodeid'], i['outcome']) for i in a['tests']]"
   ]
  },
  {
   "cell_type": "code",
   "execution_count": null,
   "id": "291067e9",
   "metadata": {},
   "outputs": [],
   "source": []
  }
 ],
 "metadata": {
  "kernelspec": {
   "display_name": "Python 3 (ipykernel)",
   "language": "python",
   "name": "python3"
  },
  "language_info": {
   "codemirror_mode": {
    "name": "ipython",
    "version": 3
   },
   "file_extension": ".py",
   "mimetype": "text/x-python",
   "name": "python",
   "nbconvert_exporter": "python",
   "pygments_lexer": "ipython3",
   "version": "3.11.11"
  }
 },
 "nbformat": 4,
 "nbformat_minor": 5
}
