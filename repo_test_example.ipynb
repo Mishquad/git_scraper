{
 "cells": [
  {
   "cell_type": "code",
   "execution_count": 11,
   "metadata": {},
   "outputs": [
    {
     "name": "stdout",
     "output_type": "stream",
     "text": [
      "pytest_json/summary {'passed': 2, 'failed': 2, 'total': 4, 'collected': 4}\n"
     ]
    }
   ],
   "source": [
    "from repotest.core.docker.python import PythonDockerRepo\n",
    "\n",
    "task = {'repo': 'niklashenning/pytablericons',\n",
    "        'base_commit': '29f2138c6399c04b4a0818503995b35627aaa754',\n",
    "        'image_name': 'python:3.11.11-slim-bookworm',\n",
    "        'build_command': 'pip install .;\\npip install -r requirements.txt;\\npip install pytest;\\npip install pytest-json-report;',\n",
    "        'test_command': 'pytest tests --json-report --json-report-file=report_pytest.json'\n",
    "       }\n",
    "\n",
    "repo = PythonDockerRepo(repo = task['repo'],\n",
    "                       base_commit = task['base_commit'],\n",
    "                       image_name = task['image_name']\n",
    "                       )\n",
    "dict_build = repo.build_env(task['build_command'])\n",
    "assert repo.was_build\n",
    "repo.clean()\n",
    "dict_test = repo.run_test(task['test_command'])\n",
    "print(\"pytest_json/summary\", dict_test['pytest_json']['summary'])\n",
    "assert dict_test['pytest_json']['summary']['passed']>=2"
   ]
  },
  {
   "cell_type": "markdown",
   "metadata": {},
   "source": [
    "/// хранится в .cache/repotest "
   ]
  },
  {
   "cell_type": "code",
   "execution_count": 15,
   "metadata": {},
   "outputs": [],
   "source": [
    "from repotest.constants import DEFAULT_CACHE_FOLDER, DOCKER_IMAGE_PREFIX, DOCKER_CONTAINER_PREFIX"
   ]
  },
  {
   "cell_type": "code",
   "execution_count": 16,
   "metadata": {},
   "outputs": [
    {
     "data": {
      "text/plain": [
       "('/Users/mivff/.cache/repotest', 'rti-', 'rtc-')"
      ]
     },
     "execution_count": 16,
     "metadata": {},
     "output_type": "execute_result"
    }
   ],
   "source": [
    "DEFAULT_CACHE_FOLDER, DOCKER_IMAGE_PREFIX, DOCKER_CONTAINER_PREFIX"
   ]
  },
  {
   "cell_type": "code",
   "execution_count": 13,
   "metadata": {},
   "outputs": [
    {
     "data": {
      "text/plain": [
       "PythonDockerRepo(repo=\"niklashenning/pytablericons\", cache_folder=\"/Users/mivff/.cache/repotest/29f2138c6399c04b4a0818503995b35627aaa754\", base_commit=\"29f2138c6399c04b4a0818503995b35627aaa754\")"
      ]
     },
     "execution_count": 13,
     "metadata": {},
     "output_type": "execute_result"
    }
   ],
   "source": [
    "repo"
   ]
  },
  {
   "cell_type": "code",
   "execution_count": 14,
   "metadata": {},
   "outputs": [
    {
     "data": {
      "text/plain": [
       "{'stdout': '============================= test session starts ==============================\\nplatform linux -- Python 3.11.11, pytest-8.3.5, pluggy-1.5.0\\nrootdir: /Users/mivff/.cache/repotest/29f2138c6399c04b4a0818503995b35627aaa754\\nplugins: json-report-1.5.0, metadata-3.1.1\\ncollected 4 items\\n\\ntests/tabler_icons_test.py ..FF                                          [100%]\\n\\n=================================== FAILURES ===================================\\n________________________ test_load_outline_icon_custom _________________________\\n\\n    def test_load_outline_icon_custom():\\n        \"\"\"Test loading an outline icon with custom size and color\"\"\"\\n    \\n        icon = TablerIcons.load(OutlineIcon.USER, size=200, color=\"#ff0000\")\\n    \\n        assert icon.width == 200\\n        assert icon.height == 200\\n        assert icon.mode == \"RGBA\"\\n        assert (0, 0, 0, 0) == icon.getpixel((0, 0))  # Transparent pixel\\n>       assert (255, 0, 0, 255) == icon.getpixel((150, 150))  # Red pixel\\nE       assert (255, 0, 0, 255) == (0, 0, 0, 0)\\nE         \\nE         At index 0 diff: 255 != 0\\nE         Use -v to get more diff\\n\\ntests/tabler_icons_test.py:37: AssertionError\\n_________________________ test_load_filled_icon_custom _________________________\\n\\n    def test_load_filled_icon_custom():\\n        \"\"\"Test loading a filled icon with custom size and color\"\"\"\\n    \\n        icon = TablerIcons.load(FilledIcon.USER, size=200, color=\"#ff0000\")\\n    \\n        assert icon.width == 200\\n        assert icon.height == 200\\n        assert icon.mode == \"RGBA\"\\n        assert (0, 0, 0, 0) == icon.getpixel((0, 0))  # Transparent pixel\\n>       assert (255, 0, 0, 255) == icon.getpixel((150, 150))  # Red pixel\\nE       assert (255, 0, 0, 255) == (0, 0, 0, 0)\\nE         \\nE         At index 0 diff: 255 != 0\\nE         Use -v to get more diff\\n\\ntests/tabler_icons_test.py:49: AssertionError\\n--------------------------------- JSON report ----------------------------------\\nreport saved to: report_pytest.json\\n=========================== short test summary info ============================\\nFAILED tests/tabler_icons_test.py::test_load_outline_icon_custom - assert (25...\\nFAILED tests/tabler_icons_test.py::test_load_filled_icon_custom - assert (255...\\n========================= 2 failed, 2 passed in 0.11s ==========================\\n',\n",
       " 'stderr': '',\n",
       " 'std': '============================= test session starts ==============================\\nplatform linux -- Python 3.11.11, pytest-8.3.5, pluggy-1.5.0\\nrootdir: /Users/mivff/.cache/repotest/29f2138c6399c04b4a0818503995b35627aaa754\\nplugins: json-report-1.5.0, metadata-3.1.1\\ncollected 4 items\\n\\ntests/tabler_icons_test.py ..FF                                          [100%]\\n\\n=================================== FAILURES ===================================\\n________________________ test_load_outline_icon_custom _________________________\\n\\n    def test_load_outline_icon_custom():\\n        \"\"\"Test loading an outline icon with custom size and color\"\"\"\\n    \\n        icon = TablerIcons.load(OutlineIcon.USER, size=200, color=\"#ff0000\")\\n    \\n        assert icon.width == 200\\n        assert icon.height == 200\\n        assert icon.mode == \"RGBA\"\\n        assert (0, 0, 0, 0) == icon.getpixel((0, 0))  # Transparent pixel\\n>       assert (255, 0, 0, 255) == icon.getpixel((150, 150))  # Red pixel\\nE       assert (255, 0, 0, 255) == (0, 0, 0, 0)\\nE         \\nE         At index 0 diff: 255 != 0\\nE         Use -v to get more diff\\n\\ntests/tabler_icons_test.py:37: AssertionError\\n_________________________ test_load_filled_icon_custom _________________________\\n\\n    def test_load_filled_icon_custom():\\n        \"\"\"Test loading a filled icon with custom size and color\"\"\"\\n    \\n        icon = TablerIcons.load(FilledIcon.USER, size=200, color=\"#ff0000\")\\n    \\n        assert icon.width == 200\\n        assert icon.height == 200\\n        assert icon.mode == \"RGBA\"\\n        assert (0, 0, 0, 0) == icon.getpixel((0, 0))  # Transparent pixel\\n>       assert (255, 0, 0, 255) == icon.getpixel((150, 150))  # Red pixel\\nE       assert (255, 0, 0, 255) == (0, 0, 0, 0)\\nE         \\nE         At index 0 diff: 255 != 0\\nE         Use -v to get more diff\\n\\ntests/tabler_icons_test.py:49: AssertionError\\n--------------------------------- JSON report ----------------------------------\\nreport saved to: report_pytest.json\\n=========================== short test summary info ============================\\nFAILED tests/tabler_icons_test.py::test_load_outline_icon_custom - assert (25...\\nFAILED tests/tabler_icons_test.py::test_load_filled_icon_custom - assert (255...\\n========================= 2 failed, 2 passed in 0.11s ==========================\\n',\n",
       " 'returncode': 0,\n",
       " 'parser': {'tests': [{'name': 'tests/tabler_icons_test.py::test_load_outline_icon_custom',\n",
       "    'status': 'FAILED'},\n",
       "   {'name': 'tests/tabler_icons_test.py::test_load_filled_icon_custom',\n",
       "    'status': 'FAILED'}],\n",
       "  'summary': {'passed': 2,\n",
       "   'error': 0,\n",
       "   'failed': 2,\n",
       "   'warning': 0,\n",
       "   'list_warning': [],\n",
       "   'skipped': 0,\n",
       "   'list_skipped': [],\n",
       "   'xfailed': 0,\n",
       "   'list_xfailed': [],\n",
       "   'xpassed': 0,\n",
       "   'list_xpassed': []},\n",
       "  'failures': ['test_load_outline_icon_custom',\n",
       "   'test_load_filled_icon_custom'],\n",
       "  'out': '============================= test session starts ==============================\\nplatform linux -- Python 3.11.11, pytest-8.3.5, pluggy-1.5.0\\nrootdir: /Users/mivff/.cache/repotest/29f2138c6399c04b4a0818503995b35627aaa754\\nplugins: json-report-1.5.0, metadata-3.1.1\\ncollected 4 items\\n\\ntests/tabler_icons_test.py ..FF                                          [100%]\\n\\n=================================== FAILURES ===================================\\n________________________ test_load_outline_icon_custom _________________________\\n\\n    def test_load_outline_icon_custom():\\n        \"\"\"Test loading an outline icon with custom size and color\"\"\"\\n    \\n        icon = TablerIcons.load(OutlineIcon.USER, size=200, color=\"#ff0000\")\\n    \\n        assert icon.width == 200\\n        assert icon.height == 200\\n        assert icon.mode == \"RGBA\"\\n        assert (0, 0, 0, 0) == icon.getpixel((0, 0))  # Transparent pixel\\n>       assert (255, 0, 0, 255) == icon.getpixel((150, 150))  # Red pixel\\nE       assert (255, 0, 0, 255) == (0, 0, 0, 0)\\nE         \\nE         At index 0 diff: 255 != 0\\nE         Use -v to get more diff\\n\\ntests/tabler_icons_test.py:37: AssertionError\\n_________________________ test_load_filled_icon_custom _________________________\\n\\n    def test_load_filled_icon_custom():\\n        \"\"\"Test loading a filled icon with custom size and color\"\"\"\\n    \\n        icon = TablerIcons.load(FilledIcon.USER, size=200, color=\"#ff0000\")\\n    \\n        assert icon.width == 200\\n        assert icon.height == 200\\n        assert icon.mode == \"RGBA\"\\n        assert (0, 0, 0, 0) == icon.getpixel((0, 0))  # Transparent pixel\\n>       assert (255, 0, 0, 255) == icon.getpixel((150, 150))  # Red pixel\\nE       assert (255, 0, 0, 255) == (0, 0, 0, 0)\\nE         \\nE         At index 0 diff: 255 != 0\\nE         Use -v to get more diff\\n\\ntests/tabler_icons_test.py:49: AssertionError\\n--------------------------------- JSON report ----------------------------------\\nreport saved to: report_pytest.json\\n=========================== short test summary info ============================\\nFAILED tests/tabler_icons_test.py::test_load_outline_icon_custom - assert (25...\\nFAILED tests/tabler_icons_test.py::test_load_filled_icon_custom - assert (255...\\n========================= 2 failed, 2 passed in 0.11s ==========================\\n',\n",
       "  'summary_raw': '=========================== short test summary info ============================\\nFAILED tests/tabler_icons_test.py::test_load_outline_icon_custom - assert (25...\\nFAILED tests/tabler_icons_test.py::test_load_filled_icon_custom - assert (255...\\n========================= 2 failed, 2 passed in 0.11s ==========================\\n'},\n",
       " 'pytest_json': {'created': 1744045982.7545593,\n",
       "  'duration': 0.11012697219848633,\n",
       "  'exitcode': 1,\n",
       "  'root': '/Users/mivff/.cache/repotest/29f2138c6399c04b4a0818503995b35627aaa754',\n",
       "  'environment': {},\n",
       "  'summary': {'passed': 2, 'failed': 2, 'total': 4, 'collected': 4},\n",
       "  'collectors': [{'nodeid': '',\n",
       "    'outcome': 'passed',\n",
       "    'result': [{'nodeid': 'tests', 'type': 'Package'}]},\n",
       "   {'nodeid': 'tests/tabler_icons_test.py',\n",
       "    'outcome': 'passed',\n",
       "    'result': [{'nodeid': 'tests/tabler_icons_test.py::test_load_outline_icon',\n",
       "      'type': 'Function',\n",
       "      'lineno': 3},\n",
       "     {'nodeid': 'tests/tabler_icons_test.py::test_load_filled_icon',\n",
       "      'type': 'Function',\n",
       "      'lineno': 15},\n",
       "     {'nodeid': 'tests/tabler_icons_test.py::test_load_outline_icon_custom',\n",
       "      'type': 'Function',\n",
       "      'lineno': 27},\n",
       "     {'nodeid': 'tests/tabler_icons_test.py::test_load_filled_icon_custom',\n",
       "      'type': 'Function',\n",
       "      'lineno': 39}]},\n",
       "   {'nodeid': 'tests',\n",
       "    'outcome': 'passed',\n",
       "    'result': [{'nodeid': 'tests/tabler_icons_test.py', 'type': 'Module'}]}],\n",
       "  'tests': [{'nodeid': 'tests/tabler_icons_test.py::test_load_outline_icon',\n",
       "    'lineno': 3,\n",
       "    'outcome': 'passed',\n",
       "    'keywords': ['test_load_outline_icon',\n",
       "     'tabler_icons_test.py',\n",
       "     'tests',\n",
       "     '29f2138c6399c04b4a0818503995b35627aaa754',\n",
       "     ''],\n",
       "    'setup': {'duration': 0.00048820799997884023, 'outcome': 'passed'},\n",
       "    'call': {'duration': 0.001233749999983047, 'outcome': 'passed'},\n",
       "    'teardown': {'duration': 7.52919999911228e-05, 'outcome': 'passed'}},\n",
       "   {'nodeid': 'tests/tabler_icons_test.py::test_load_filled_icon',\n",
       "    'lineno': 15,\n",
       "    'outcome': 'passed',\n",
       "    'keywords': ['test_load_filled_icon',\n",
       "     'tabler_icons_test.py',\n",
       "     'tests',\n",
       "     '29f2138c6399c04b4a0818503995b35627aaa754',\n",
       "     ''],\n",
       "    'setup': {'duration': 0.00011133300000665258, 'outcome': 'passed'},\n",
       "    'call': {'duration': 0.0005447080000067217, 'outcome': 'passed'},\n",
       "    'teardown': {'duration': 8.279100001118422e-05, 'outcome': 'passed'}},\n",
       "   {'nodeid': 'tests/tabler_icons_test.py::test_load_outline_icon_custom',\n",
       "    'lineno': 27,\n",
       "    'outcome': 'failed',\n",
       "    'keywords': ['test_load_outline_icon_custom',\n",
       "     'tabler_icons_test.py',\n",
       "     'tests',\n",
       "     '29f2138c6399c04b4a0818503995b35627aaa754',\n",
       "     ''],\n",
       "    'setup': {'duration': 5.529099999534992e-05, 'outcome': 'passed'},\n",
       "    'call': {'duration': 0.0007009589999995569,\n",
       "     'outcome': 'failed',\n",
       "     'crash': {'path': '/Users/mivff/.cache/repotest/29f2138c6399c04b4a0818503995b35627aaa754/tests/tabler_icons_test.py',\n",
       "      'lineno': 37,\n",
       "      'message': 'assert (255, 0, 0, 255) == (0, 0, 0, 0)\\n  \\n  At index 0 diff: 255 != 0\\n  Use -v to get more diff'},\n",
       "     'traceback': [{'path': 'tests/tabler_icons_test.py',\n",
       "       'lineno': 37,\n",
       "       'message': 'AssertionError'}],\n",
       "     'longrepr': 'def test_load_outline_icon_custom():\\n        \"\"\"Test loading an outline icon with custom size and color\"\"\"\\n    \\n        icon = TablerIcons.load(OutlineIcon.USER, size=200, color=\"#ff0000\")\\n    \\n        assert icon.width == 200\\n        assert icon.height == 200\\n        assert icon.mode == \"RGBA\"\\n        assert (0, 0, 0, 0) == icon.getpixel((0, 0))  # Transparent pixel\\n>       assert (255, 0, 0, 255) == icon.getpixel((150, 150))  # Red pixel\\nE       assert (255, 0, 0, 255) == (0, 0, 0, 0)\\nE         \\nE         At index 0 diff: 255 != 0\\nE         Use -v to get more diff\\n\\ntests/tabler_icons_test.py:37: AssertionError'},\n",
       "    'teardown': {'duration': 0.00042445899998710956, 'outcome': 'passed'}},\n",
       "   {'nodeid': 'tests/tabler_icons_test.py::test_load_filled_icon_custom',\n",
       "    'lineno': 39,\n",
       "    'outcome': 'failed',\n",
       "    'keywords': ['test_load_filled_icon_custom',\n",
       "     'tabler_icons_test.py',\n",
       "     'tests',\n",
       "     '29f2138c6399c04b4a0818503995b35627aaa754',\n",
       "     ''],\n",
       "    'setup': {'duration': 7.462500002475281e-05, 'outcome': 'passed'},\n",
       "    'call': {'duration': 0.0014575830000183032,\n",
       "     'outcome': 'failed',\n",
       "     'crash': {'path': '/Users/mivff/.cache/repotest/29f2138c6399c04b4a0818503995b35627aaa754/tests/tabler_icons_test.py',\n",
       "      'lineno': 49,\n",
       "      'message': 'assert (255, 0, 0, 255) == (0, 0, 0, 0)\\n  \\n  At index 0 diff: 255 != 0\\n  Use -v to get more diff'},\n",
       "     'traceback': [{'path': 'tests/tabler_icons_test.py',\n",
       "       'lineno': 49,\n",
       "       'message': 'AssertionError'}],\n",
       "     'longrepr': 'def test_load_filled_icon_custom():\\n        \"\"\"Test loading a filled icon with custom size and color\"\"\"\\n    \\n        icon = TablerIcons.load(FilledIcon.USER, size=200, color=\"#ff0000\")\\n    \\n        assert icon.width == 200\\n        assert icon.height == 200\\n        assert icon.mode == \"RGBA\"\\n        assert (0, 0, 0, 0) == icon.getpixel((0, 0))  # Transparent pixel\\n>       assert (255, 0, 0, 255) == icon.getpixel((150, 150))  # Red pixel\\nE       assert (255, 0, 0, 255) == (0, 0, 0, 0)\\nE         \\nE         At index 0 diff: 255 != 0\\nE         Use -v to get more diff\\n\\ntests/tabler_icons_test.py:49: AssertionError'},\n",
       "    'teardown': {'duration': 0.0003242090000128428, 'outcome': 'passed'}}]},\n",
       " 'time': 0.3777179718017578}"
      ]
     },
     "execution_count": 14,
     "metadata": {},
     "output_type": "execute_result"
    }
   ],
   "source": [
    "dict_test"
   ]
  },
  {
   "cell_type": "code",
   "execution_count": 12,
   "metadata": {},
   "outputs": [
    {
     "data": {
      "text/plain": [
       "'/Users/mivff/.cache/repotest/29f2138c6399c04b4a0818503995b35627aaa754'"
      ]
     },
     "execution_count": 12,
     "metadata": {},
     "output_type": "execute_result"
    }
   ],
   "source": [
    "repo.cache_folder"
   ]
  },
  {
   "cell_type": "code",
   "execution_count": null,
   "metadata": {},
   "outputs": [],
   "source": []
  }
 ],
 "metadata": {
  "kernelspec": {
   "display_name": ".venv",
   "language": "python",
   "name": "python3"
  },
  "language_info": {
   "codemirror_mode": {
    "name": "ipython",
    "version": 3
   },
   "file_extension": ".py",
   "mimetype": "text/x-python",
   "name": "python",
   "nbconvert_exporter": "python",
   "pygments_lexer": "ipython3",
   "version": "3.9.12"
  }
 },
 "nbformat": 4,
 "nbformat_minor": 2
}
